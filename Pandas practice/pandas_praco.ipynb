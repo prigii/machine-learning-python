{
 "cells": [
  {
   "cell_type": "code",
   "execution_count": 1,
   "metadata": {},
   "outputs": [
    {
     "name": "stdout",
     "output_type": "stream",
     "text": [
      "0     1\n",
      "1     2\n",
      "2     3\n",
      "3     4\n",
      "4     5\n",
      "5     6\n",
      "6     7\n",
      "7     8\n",
      "8     9\n",
      "9    10\n",
      "dtype: int64\n"
     ]
    }
   ],
   "source": [
    "# Write a Pandas program to create and display a one-dimensional array-like object containing an array of data.\n",
    "import pandas as pd\n",
    "ds=pd.Series([1,2,3,4,5,6,7,8,9,10])\n",
    "print(ds)"
   ]
  },
  {
   "cell_type": "code",
   "execution_count": 4,
   "metadata": {},
   "outputs": [
    {
     "name": "stdout",
     "output_type": "stream",
     "text": [
      "[1, 2, 3, 4, 5, 6, 7, 8, 9, 10]\n"
     ]
    },
    {
     "data": {
      "text/plain": [
       "list"
      ]
     },
     "execution_count": 4,
     "metadata": {},
     "output_type": "execute_result"
    }
   ],
   "source": [
    "# Write a Pandas program to convert a Panda module Series to  Python list and it’s type.\n",
    "import pandas as pd\n",
    "ds=pd.Series([1,2,3,4,5,6,7,8,9,10])\n",
    "ds.tolist()\n",
    "print(ds.tolist())\n",
    "type(ds.tolist())\n"
   ]
  },
  {
   "cell_type": "code",
   "execution_count": 5,
   "metadata": {},
   "outputs": [
    {
     "name": "stdout",
     "output_type": "stream",
     "text": [
      "0     2\n",
      "1     4\n",
      "2     6\n",
      "3     8\n",
      "4    10\n",
      "dtype: int64\n",
      "0    0\n",
      "1    0\n",
      "2    0\n",
      "3    0\n",
      "4    0\n",
      "dtype: int64\n",
      "0     1\n",
      "1     4\n",
      "2     9\n",
      "3    16\n",
      "4    25\n",
      "dtype: int64\n",
      "0    1.0\n",
      "1    1.0\n",
      "2    1.0\n",
      "3    1.0\n",
      "4    1.0\n",
      "dtype: float64\n"
     ]
    }
   ],
   "source": [
    "# Write a Pandas program to add, subtract, multiple and divide two Pandas Series\n",
    "import pandas as pd\n",
    "ds1=pd.Series([1,2,3,4,5])\n",
    "ds2=pd.Series([1,2,3,4,5])\n",
    "print(ds1+ds2)\n",
    "print(ds1-ds2)\n",
    "print(ds1*ds2)\n",
    "print(ds1/ds2)"
   ]
  },
  {
   "cell_type": "code",
   "execution_count": 10,
   "metadata": {},
   "outputs": [
    {
     "name": "stdout",
     "output_type": "stream",
     "text": [
      "0    False\n",
      "1    False\n",
      "2    False\n",
      "3    False\n",
      "4    False\n",
      "5    False\n",
      "dtype: bool\n",
      "0    False\n",
      "1    False\n",
      "2    False\n",
      "3    False\n",
      "4    False\n",
      "5    False\n",
      "dtype: bool\n",
      "0    True\n",
      "1    True\n",
      "2    True\n",
      "3    True\n",
      "4    True\n",
      "5    True\n",
      "dtype: bool\n"
     ]
    }
   ],
   "source": [
    "# Write a Pandas program to compare the elements of the two Pandas Series.\n",
    "import pandas as pd\n",
    "ds1 = pd.Series([1, 2, 3, 4, 5, 6])\n",
    "ds2 = pd.Series([4, 5, 6, 7, 8, 9])\n",
    "print(ds1>ds2)\n",
    "print(ds1==ds2)\n",
    "print(ds1<ds2)"
   ]
  },
  {
   "cell_type": "code",
   "execution_count": 11,
   "metadata": {},
   "outputs": [
    {
     "data": {
      "text/plain": [
       "a    100\n",
       "b    200\n",
       "c    300\n",
       "d    400\n",
       "e    800\n",
       "dtype: int64"
      ]
     },
     "execution_count": 11,
     "metadata": {},
     "output_type": "execute_result"
    }
   ],
   "source": [
    "# Write a Pandas program to convert a dictionary to a Pandas series.\n",
    "import pandas as pd\n",
    "dict = {'a': 100, 'b': 200, 'c': 300, 'd': 400, 'e': 800}\n",
    "ds = pd.Series(dict)\n",
    "ds"
   ]
  },
  {
   "cell_type": "code",
   "execution_count": 12,
   "metadata": {},
   "outputs": [
    {
     "name": "stdout",
     "output_type": "stream",
     "text": [
      "0    10\n",
      "1    20\n",
      "2    30\n",
      "3    40\n",
      "4    50\n",
      "dtype: int64\n"
     ]
    }
   ],
   "source": [
    "# Write a Pandas program to convert a NumPy array to a Pandas series\n",
    "import pandas as pd\n",
    "import numpy as np\n",
    "np_array = [10, 20, 30, 40, 50]\n",
    "pd_series = pd.Series(np_array)\n",
    "print(pd_series)"
   ]
  },
  {
   "cell_type": "code",
   "execution_count": 21,
   "metadata": {},
   "outputs": [
    {
     "data": {
      "text/plain": [
       "0    100.00\n",
       "1    200.00\n",
       "2       NaN\n",
       "3    300.12\n",
       "4    400.00\n",
       "dtype: float64"
      ]
     },
     "execution_count": 21,
     "metadata": {},
     "output_type": "execute_result"
    }
   ],
   "source": [
    "# Write a Pandas program to change the data type of given a column or a Series.\n",
    "import pandas as pd\n",
    "ds  = pd.Series([100,200,'python',300.12,400])\n",
    "ds1 = pd.to_numeric(ds, errors='coerce')\n",
    "ds1"
   ]
  },
  {
   "cell_type": "code",
   "execution_count": 24,
   "metadata": {},
   "outputs": [
    {
     "name": "stdout",
     "output_type": "stream",
     "text": [
      "   col1  col2  col3\n",
      "0     1     5     9\n",
      "1     2     6    10\n",
      "2     3     7    11\n",
      "3     4     8    12\n",
      "0    1\n",
      "1    2\n",
      "2    3\n",
      "3    4\n",
      "Name: col1, dtype: int64\n"
     ]
    }
   ],
   "source": [
    "# Write a Pandas program to convert the first column of a DataFrame as a Series\n",
    "import pandas as pd\n",
    "data = {'col1':[1,2,3,4], 'col2':[5,6,7,8], 'col3':[9,10,11,12]}\n",
    "df = pd.DataFrame(data)\n",
    "print(df)\n",
    "print(df['col1'])"
   ]
  },
  {
   "cell_type": "code",
   "execution_count": 26,
   "metadata": {},
   "outputs": [
    {
     "data": {
      "text/plain": [
       "<NumpyExtensionArray>\n",
       "[100, 200, 'python', 300.12, 400]\n",
       "Length: 5, dtype: object"
      ]
     },
     "execution_count": 26,
     "metadata": {},
     "output_type": "execute_result"
    }
   ],
   "source": [
    "# Write a Pandas program to convert a given Series to an array.\n",
    "import pandas as pd\n",
    "ds = pd.Series([100,200,'python',300.12,400])\n",
    "da = pd.array(ds)\n",
    "da"
   ]
  },
  {
   "cell_type": "code",
   "execution_count": 33,
   "metadata": {},
   "outputs": [
    {
     "data": {
      "text/plain": [
       "0       Red\n",
       "0     Green\n",
       "0     White\n",
       "1       Red\n",
       "1     Black\n",
       "2    Yellow\n",
       "dtype: object"
      ]
     },
     "execution_count": 33,
     "metadata": {},
     "output_type": "execute_result"
    }
   ],
   "source": [
    "# Write a Pandas program to convert Series of lists to one Series.\n",
    "import pandas as pd\n",
    "ds = pd.Series([['Red', 'Green', 'White'], ['Red', 'Black'], ['Yellow']])\n",
    "ds1 = ds.apply(pd.Series).stack().reset_index(level=1, drop=True)\n",
    "ds1"
   ]
  },
  {
   "cell_type": "code",
   "execution_count": 36,
   "metadata": {},
   "outputs": [
    {
     "data": {
      "text/plain": [
       "0       100\n",
       "1       200\n",
       "3    300.12\n",
       "4       400\n",
       "2    python\n",
       "dtype: object"
      ]
     },
     "execution_count": 36,
     "metadata": {},
     "output_type": "execute_result"
    }
   ],
   "source": [
    "# Write a Pandas program to sort a given Series.\n",
    "import pandas as pd\n",
    "ds = pd.Series(['100','200','python','300.12','400'])\n",
    "ds1=pd.Series(ds).sort_values()\n",
    "ds1"
   ]
  },
  {
   "cell_type": "code",
   "execution_count": 40,
   "metadata": {},
   "outputs": [
    {
     "name": "stdout",
     "output_type": "stream",
     "text": [
      "0       100\n",
      "1       200\n",
      "2    python\n",
      "3    300.12\n",
      "4       400\n",
      "5       500\n",
      "6       600\n",
      "7       700\n",
      "8       800\n",
      "9       900\n",
      "dtype: object\n"
     ]
    }
   ],
   "source": [
    "# Write a Pandas program to add some data to an existing Series\n",
    "import pandas as pd\n",
    "ds = pd.Series(['100','200','python','300.12','400'])\n",
    "ds1 = pd.concat([ds, pd.Series(['500','600','700','800','900'])], ignore_index=True)\n",
    "print(ds1)"
   ]
  },
  {
   "cell_type": "code",
   "execution_count": 49,
   "metadata": {},
   "outputs": [
    {
     "data": {
      "text/plain": [
       "0    1\n",
       "1    2\n",
       "2    3\n",
       "3    4\n",
       "4    5\n",
       "dtype: int64"
      ]
     },
     "execution_count": 49,
     "metadata": {},
     "output_type": "execute_result"
    }
   ],
   "source": [
    "# Write a Pandas program to create a subset of a given series based on value and condition.\n",
    "import pandas as pd\n",
    "ser = pd.Series([1,2,3,4,5,6,7,8,9,10,11,12,13,14,15])\n",
    "ser_sub = ser.head(5)\n",
    "ser_sub"
   ]
  },
  {
   "cell_type": "code",
   "execution_count": 57,
   "metadata": {},
   "outputs": [
    {
     "data": {
      "text/plain": [
       "e    5\n",
       "d    4\n",
       "c    3\n",
       "b    2\n",
       "a    1\n",
       "dtype: int64"
      ]
     },
     "execution_count": 57,
     "metadata": {},
     "output_type": "execute_result"
    }
   ],
   "source": [
    "# Write a Pandas program to change the order of index of a given series.\n",
    "import pandas as pd\n",
    "s=pd.Series([1,2,3,4,5],index=['a','b','c','d','e'])\n",
    "ser=s.reindex(['e','d','c','b','a'])\n",
    "ser"
   ]
  },
  {
   "cell_type": "code",
   "execution_count": 58,
   "metadata": {},
   "outputs": [
    {
     "name": "stdout",
     "output_type": "stream",
     "text": [
      "5.5 3.0276503540974917 9.166666666666666\n"
     ]
    }
   ],
   "source": [
    "# Write a Pandas program to create the mean and standard deviation of the data of a given Series.\n",
    "import pandas as pd\n",
    "s = pd.Series([1,2,3,4,5,6,7,8,9,10])\n",
    "print(s.mean(), s.std(), s.var())"
   ]
  },
  {
   "cell_type": "code",
   "execution_count": 64,
   "metadata": {},
   "outputs": [
    {
     "data": {
      "text/plain": [
       "0    1\n",
       "1    2\n",
       "2    3\n",
       "dtype: int64"
      ]
     },
     "execution_count": 64,
     "metadata": {},
     "output_type": "execute_result"
    }
   ],
   "source": [
    "# Write a Pandas program to get the items of a given series not present in another given series.\n",
    "import pandas as pd\n",
    "ser1 = pd.Series([1,2,3,4,5])\n",
    "ser2 = pd.Series([4,5,6,7,8])\n",
    "\n",
    "i = ser1[~ser1.isin(ser2)]\n",
    "i\n"
   ]
  },
  {
   "cell_type": "code",
   "execution_count": 65,
   "metadata": {},
   "outputs": [
    {
     "data": {
      "text/plain": [
       "3    4\n",
       "4    5\n",
       "dtype: int64"
      ]
     },
     "execution_count": 65,
     "metadata": {},
     "output_type": "execute_result"
    }
   ],
   "source": [
    "# Write a Pandas program to get the items which are common of two given series.\n",
    "import pandas as pd\n",
    "ser1 = pd.Series([1,2,3,4,5])\n",
    "ser2 = pd.Series([4,5,6,7,8])\n",
    "\n",
    "i = ser1[ser1.isin(ser2)]\n",
    "i"
   ]
  },
  {
   "cell_type": "code",
   "execution_count": 66,
   "metadata": {},
   "outputs": [
    {
     "data": {
      "text/plain": [
       "0    1\n",
       "1    2\n",
       "2    3\n",
       "5    6\n",
       "6    7\n",
       "7    8\n",
       "dtype: int64"
      ]
     },
     "execution_count": 66,
     "metadata": {},
     "output_type": "execute_result"
    }
   ],
   "source": [
    "# Write a Pandas program to get the items which are not common of two given series.\n",
    "import pandas as pd\n",
    "ser1 = pd.Series([1,2,3,4,5])\n",
    "ser2 = pd.Series([4,5,6,7,8])\n",
    "\n",
    "ser11 = pd.Series(np.union1d(ser1,ser2))\n",
    "ser22 = pd.Series(np.intersect1d(ser1,ser2))\n",
    "i = ser11[~ser11.isin(ser22)]\n",
    "i"
   ]
  },
  {
   "cell_type": "code",
   "execution_count": 71,
   "metadata": {},
   "outputs": [
    {
     "data": {
      "text/plain": [
       "count    10.00000\n",
       "mean      5.50000\n",
       "std       3.02765\n",
       "min       1.00000\n",
       "25%       3.25000\n",
       "50%       5.50000\n",
       "75%       7.75000\n",
       "max      10.00000\n",
       "dtype: float64"
      ]
     },
     "execution_count": 71,
     "metadata": {},
     "output_type": "execute_result"
    }
   ],
   "source": [
    "# Write a Pandas program to compute the minimum, 25th percentile, median, 75th, and maximum of a given series\n",
    "import pandas as pd\n",
    "s = pd.Series([1,2,3,4,5,6,7,8,9,10])\n",
    "# print(s.describe())\n",
    "\n",
    "def min_25_median_75_max(s):\n",
    "    return s.describe()\n",
    "\n",
    "min_25_median_75_max(s)"
   ]
  },
  {
   "cell_type": "code",
   "execution_count": 72,
   "metadata": {},
   "outputs": [
    {
     "name": "stdout",
     "output_type": "stream",
     "text": [
      "Original series: 0      3.000938\n",
      "1     11.370722\n",
      "2     14.612143\n",
      "3      8.990256\n",
      "4     13.925283\n",
      "5     12.056875\n",
      "6     10.884719\n",
      "7      5.719827\n",
      "8      9.242017\n",
      "9     11.020006\n",
      "10     8.167892\n",
      "11    11.740654\n",
      "12     7.665620\n",
      "13    13.267388\n",
      "14    12.690883\n",
      "15     9.582355\n",
      "16     7.874878\n",
      "17    14.118931\n",
      "18     8.247458\n",
      "19     5.526727\n",
      "dtype: float64\n",
      "Minimum: 3.0009381077812103\n",
      "25th percentile: 8.094638666640218\n",
      "Median: 10.233537051661546\n",
      "75th percentile: 12.215377329892807\n",
      "Maximum: 3.480838000148649\n"
     ]
    }
   ],
   "source": [
    "# Write a Pandas program to compute the minimum, 25th percentile, median, 75th, and maximum of a given series\n",
    "import pandas as pd\n",
    "import numpy as np\n",
    "num_state = np.random.RandomState(100)\n",
    "num_series = pd.Series(num_state.normal(10,4,20))\n",
    "print(\"Original series:\", num_series)\n",
    "result = np.percentile(num_series, [0,25,50,75,1])\n",
    "print(\"Minimum:\", result[0])\n",
    "print(\"25th percentile:\", result[1])\n",
    "print(\"Median:\", result[2])\n",
    "print(\"75th percentile:\", result[3])\n",
    "print(\"Maximum:\", result[4])\n"
   ]
  },
  {
   "cell_type": "code",
   "execution_count": 74,
   "metadata": {},
   "outputs": [
    {
     "name": "stdout",
     "output_type": "stream",
     "text": [
      "4    4\n",
      "3    3\n",
      "1    2\n",
      "2    1\n",
      "Name: count, dtype: int64\n"
     ]
    }
   ],
   "source": [
    "# Write a Pandas program to calculate the frequency counts of each unique value of a given series.\n",
    "import pandas as pd\n",
    "s = pd.Series([1, 2, 1, 3, 3, 3, 4, 4, 4, 4])\n",
    "print(s.value_counts())"
   ]
  },
  {
   "cell_type": "code",
   "execution_count": 89,
   "metadata": {},
   "outputs": [
    {
     "name": "stderr",
     "output_type": "stream",
     "text": [
      "/tmp/ipykernel_32491/749578055.py:9: FutureWarning: Setting an item of incompatible dtype is deprecated and will raise an error in a future version of pandas. Value 'Other' has dtype incompatible with int64, please explicitly cast to a compatible dtype first.\n",
      "  s[s!= max_count] = 'Other'\n"
     ]
    },
    {
     "data": {
      "text/plain": [
       "0    Other\n",
       "1    Other\n",
       "2    Other\n",
       "3    Other\n",
       "4    Other\n",
       "5    Other\n",
       "6        4\n",
       "7        4\n",
       "8        4\n",
       "9        4\n",
       "dtype: object"
      ]
     },
     "execution_count": 89,
     "metadata": {},
     "output_type": "execute_result"
    }
   ],
   "source": [
    "# Write a Pandas program to display most frequent value in a given series and replace everything else as 'Other' in the serie\n",
    "import pandas as pd\n",
    "s = pd.Series([1, 2, 1, 3, 3, 3, 4, 4, 4, 4])\n",
    "\n",
    "counts = s.value_counts()\n",
    "\n",
    "max_count = counts.max()\n",
    "\n",
    "s[s!= max_count] = 'Other'\n",
    "s[~s.isin(s.value_counts().index[:3])] = 'Other'\n",
    "s\n"
   ]
  },
  {
   "cell_type": "code",
   "execution_count": 91,
   "metadata": {},
   "outputs": [
    {
     "name": "stdout",
     "output_type": "stream",
     "text": [
      "Index([4, 9, 14, 16, 17, 18, 19, 20, 21, 22, 23, 24, 25, 26], dtype='int64')\n",
      "(array([ 4,  9, 14, 16, 17, 18, 19, 20, 21, 22, 23, 24, 25, 26]),)\n"
     ]
    }
   ],
   "source": [
    "# Write a Pandas program to find the positions of numbers that are multiples of 5 of a given series.\n",
    "import pandas as pd\n",
    "s = pd.Series([1, 2, 3, 4, 5, 6, 7, 8, 9, 10, 11, 12, 13, 14, 15, 16, 20, 25, 30, 35, 40, 45, 50, 55, 60, 65, 70])\n",
    "print(s.index[s%5==0])\n",
    "# or\n",
    "print(np.where(s%5==0))"
   ]
  },
  {
   "cell_type": "code",
   "execution_count": 93,
   "metadata": {},
   "outputs": [
    {
     "name": "stdout",
     "output_type": "stream",
     "text": [
      "0    10\n",
      "2    30\n",
      "4    50\n",
      "dtype: int64\n"
     ]
    }
   ],
   "source": [
    "# Write a Pandas program to extract items at given positions of a given series.\n",
    "import pandas as pd\n",
    "\n",
    "s = pd.Series([10, 20, 30, 40, 50, 60])\n",
    "positions = [0, 2, 4]\n",
    "print(s.take(positions))"
   ]
  },
  {
   "cell_type": "code",
   "execution_count": 101,
   "metadata": {},
   "outputs": [
    {
     "data": {
      "text/plain": [
       "[0, 1, 7, 8, 9, 2]"
      ]
     },
     "execution_count": 101,
     "metadata": {},
     "output_type": "execute_result"
    }
   ],
   "source": [
    "# Write a Pandas program to get the positions of items of a given series in another given series.\n",
    "import pandas as pd\n",
    "\n",
    "s1 = pd.Series([1, 2, 6, 7, 8, 9, 10, 3, 4, 5,])\n",
    "s2 = pd.Series([1, 2, 3, 4, 5, 6])\n",
    "\n",
    "# for i in s2:\n",
    "#     s3 = [s1.index[s1 == i]]\n",
    "#     print(s3)\n",
    "    \n",
    "s4 = [pd.Index(s1).get_loc(i) for i in s2]\n",
    "s4\n",
    "\n",
    "\n",
    "\n"
   ]
  }
 ],
 "metadata": {
  "kernelspec": {
   "display_name": "Python 3",
   "language": "python",
   "name": "python3"
  },
  "language_info": {
   "codemirror_mode": {
    "name": "ipython",
    "version": 3
   },
   "file_extension": ".py",
   "mimetype": "text/x-python",
   "name": "python",
   "nbconvert_exporter": "python",
   "pygments_lexer": "ipython3",
   "version": "3.10.12"
  }
 },
 "nbformat": 4,
 "nbformat_minor": 2
}
