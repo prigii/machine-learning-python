{
 "cells": [
  {
   "cell_type": "code",
   "execution_count": 1,
   "metadata": {},
   "outputs": [
    {
     "name": "stdout",
     "output_type": "stream",
     "text": [
      "0     1\n",
      "1     2\n",
      "2     3\n",
      "3     4\n",
      "4     5\n",
      "5     6\n",
      "6     7\n",
      "7     8\n",
      "8     9\n",
      "9    10\n",
      "dtype: int64\n"
     ]
    }
   ],
   "source": [
    "# Write a Pandas program to create and display a one-dimensional array-like object containing an array of data.\n",
    "import pandas as pd\n",
    "ds=pd.Series([1,2,3,4,5,6,7,8,9,10])\n",
    "print(ds)"
   ]
  },
  {
   "cell_type": "code",
   "execution_count": 4,
   "metadata": {},
   "outputs": [
    {
     "name": "stdout",
     "output_type": "stream",
     "text": [
      "[1, 2, 3, 4, 5, 6, 7, 8, 9, 10]\n"
     ]
    },
    {
     "data": {
      "text/plain": [
       "list"
      ]
     },
     "execution_count": 4,
     "metadata": {},
     "output_type": "execute_result"
    }
   ],
   "source": [
    "# Write a Pandas program to convert a Panda module Series to  Python list and it’s type.\n",
    "import pandas as pd\n",
    "ds=pd.Series([1,2,3,4,5,6,7,8,9,10])\n",
    "ds.tolist()\n",
    "print(ds.tolist())\n",
    "type(ds.tolist())\n"
   ]
  },
  {
   "cell_type": "code",
   "execution_count": 5,
   "metadata": {},
   "outputs": [
    {
     "name": "stdout",
     "output_type": "stream",
     "text": [
      "0     2\n",
      "1     4\n",
      "2     6\n",
      "3     8\n",
      "4    10\n",
      "dtype: int64\n",
      "0    0\n",
      "1    0\n",
      "2    0\n",
      "3    0\n",
      "4    0\n",
      "dtype: int64\n",
      "0     1\n",
      "1     4\n",
      "2     9\n",
      "3    16\n",
      "4    25\n",
      "dtype: int64\n",
      "0    1.0\n",
      "1    1.0\n",
      "2    1.0\n",
      "3    1.0\n",
      "4    1.0\n",
      "dtype: float64\n"
     ]
    }
   ],
   "source": [
    "# Write a Pandas program to add, subtract, multiple and divide two Pandas Series\n",
    "import pandas as pd\n",
    "ds1=pd.Series([1,2,3,4,5])\n",
    "ds2=pd.Series([1,2,3,4,5])\n",
    "print(ds1+ds2)\n",
    "print(ds1-ds2)\n",
    "print(ds1*ds2)\n",
    "print(ds1/ds2)"
   ]
  },
  {
   "cell_type": "code",
   "execution_count": 10,
   "metadata": {},
   "outputs": [
    {
     "name": "stdout",
     "output_type": "stream",
     "text": [
      "0    False\n",
      "1    False\n",
      "2    False\n",
      "3    False\n",
      "4    False\n",
      "5    False\n",
      "dtype: bool\n",
      "0    False\n",
      "1    False\n",
      "2    False\n",
      "3    False\n",
      "4    False\n",
      "5    False\n",
      "dtype: bool\n",
      "0    True\n",
      "1    True\n",
      "2    True\n",
      "3    True\n",
      "4    True\n",
      "5    True\n",
      "dtype: bool\n"
     ]
    }
   ],
   "source": [
    "# Write a Pandas program to compare the elements of the two Pandas Series.\n",
    "import pandas as pd\n",
    "ds1 = pd.Series([1, 2, 3, 4, 5, 6])\n",
    "ds2 = pd.Series([4, 5, 6, 7, 8, 9])\n",
    "print(ds1>ds2)\n",
    "print(ds1==ds2)\n",
    "print(ds1<ds2)"
   ]
  },
  {
   "cell_type": "code",
   "execution_count": 11,
   "metadata": {},
   "outputs": [
    {
     "data": {
      "text/plain": [
       "a    100\n",
       "b    200\n",
       "c    300\n",
       "d    400\n",
       "e    800\n",
       "dtype: int64"
      ]
     },
     "execution_count": 11,
     "metadata": {},
     "output_type": "execute_result"
    }
   ],
   "source": [
    "# Write a Pandas program to convert a dictionary to a Pandas series.\n",
    "import pandas as pd\n",
    "dict = {'a': 100, 'b': 200, 'c': 300, 'd': 400, 'e': 800}\n",
    "ds = pd.Series(dict)\n",
    "ds"
   ]
  },
  {
   "cell_type": "code",
   "execution_count": 12,
   "metadata": {},
   "outputs": [
    {
     "name": "stdout",
     "output_type": "stream",
     "text": [
      "0    10\n",
      "1    20\n",
      "2    30\n",
      "3    40\n",
      "4    50\n",
      "dtype: int64\n"
     ]
    }
   ],
   "source": [
    "# Write a Pandas program to convert a NumPy array to a Pandas series\n",
    "import pandas as pd\n",
    "import numpy as np\n",
    "np_array = [10, 20, 30, 40, 50]\n",
    "pd_series = pd.Series(np_array)\n",
    "print(pd_series)"
   ]
  },
  {
   "cell_type": "code",
   "execution_count": 21,
   "metadata": {},
   "outputs": [
    {
     "data": {
      "text/plain": [
       "0    100.00\n",
       "1    200.00\n",
       "2       NaN\n",
       "3    300.12\n",
       "4    400.00\n",
       "dtype: float64"
      ]
     },
     "execution_count": 21,
     "metadata": {},
     "output_type": "execute_result"
    }
   ],
   "source": [
    "# Write a Pandas program to change the data type of given a column or a Series.\n",
    "import pandas as pd\n",
    "ds  = pd.Series([100,200,'python',300.12,400])\n",
    "ds1 = pd.to_numeric(ds, errors='coerce')\n",
    "ds1"
   ]
  },
  {
   "cell_type": "code",
   "execution_count": 24,
   "metadata": {},
   "outputs": [
    {
     "name": "stdout",
     "output_type": "stream",
     "text": [
      "   col1  col2  col3\n",
      "0     1     5     9\n",
      "1     2     6    10\n",
      "2     3     7    11\n",
      "3     4     8    12\n",
      "0    1\n",
      "1    2\n",
      "2    3\n",
      "3    4\n",
      "Name: col1, dtype: int64\n"
     ]
    }
   ],
   "source": [
    "# Write a Pandas program to convert the first column of a DataFrame as a Series\n",
    "import pandas as pd\n",
    "data = {'col1':[1,2,3,4], 'col2':[5,6,7,8], 'col3':[9,10,11,12]}\n",
    "df = pd.DataFrame(data)\n",
    "print(df)\n",
    "print(df['col1'])"
   ]
  },
  {
   "cell_type": "code",
   "execution_count": 26,
   "metadata": {},
   "outputs": [
    {
     "data": {
      "text/plain": [
       "<NumpyExtensionArray>\n",
       "[100, 200, 'python', 300.12, 400]\n",
       "Length: 5, dtype: object"
      ]
     },
     "execution_count": 26,
     "metadata": {},
     "output_type": "execute_result"
    }
   ],
   "source": [
    "# Write a Pandas program to convert a given Series to an array.\n",
    "import pandas as pd\n",
    "ds = pd.Series([100,200,'python',300.12,400])\n",
    "da = pd.array(ds)\n",
    "da"
   ]
  },
  {
   "cell_type": "code",
   "execution_count": 33,
   "metadata": {},
   "outputs": [
    {
     "data": {
      "text/plain": [
       "0       Red\n",
       "0     Green\n",
       "0     White\n",
       "1       Red\n",
       "1     Black\n",
       "2    Yellow\n",
       "dtype: object"
      ]
     },
     "execution_count": 33,
     "metadata": {},
     "output_type": "execute_result"
    }
   ],
   "source": [
    "# Write a Pandas program to convert Series of lists to one Series.\n",
    "import pandas as pd\n",
    "ds = pd.Series([['Red', 'Green', 'White'], ['Red', 'Black'], ['Yellow']])\n",
    "ds1 = ds.apply(pd.Series).stack().reset_index(level=1, drop=True)\n",
    "ds1"
   ]
  },
  {
   "cell_type": "code",
   "execution_count": 36,
   "metadata": {},
   "outputs": [
    {
     "data": {
      "text/plain": [
       "0       100\n",
       "1       200\n",
       "3    300.12\n",
       "4       400\n",
       "2    python\n",
       "dtype: object"
      ]
     },
     "execution_count": 36,
     "metadata": {},
     "output_type": "execute_result"
    }
   ],
   "source": [
    "# Write a Pandas program to sort a given Series.\n",
    "import pandas as pd\n",
    "ds = pd.Series(['100','200','python','300.12','400'])\n",
    "ds1=pd.Series(ds).sort_values()\n",
    "ds1"
   ]
  },
  {
   "cell_type": "code",
   "execution_count": 40,
   "metadata": {},
   "outputs": [
    {
     "name": "stdout",
     "output_type": "stream",
     "text": [
      "0       100\n",
      "1       200\n",
      "2    python\n",
      "3    300.12\n",
      "4       400\n",
      "5       500\n",
      "6       600\n",
      "7       700\n",
      "8       800\n",
      "9       900\n",
      "dtype: object\n"
     ]
    }
   ],
   "source": [
    "# Write a Pandas program to add some data to an existing Series\n",
    "import pandas as pd\n",
    "ds = pd.Series(['100','200','python','300.12','400'])\n",
    "ds1 = pd.concat([ds, pd.Series(['500','600','700','800','900'])], ignore_index=True)\n",
    "print(ds1)"
   ]
  },
  {
   "cell_type": "code",
   "execution_count": 49,
   "metadata": {},
   "outputs": [
    {
     "data": {
      "text/plain": [
       "0    1\n",
       "1    2\n",
       "2    3\n",
       "3    4\n",
       "4    5\n",
       "dtype: int64"
      ]
     },
     "execution_count": 49,
     "metadata": {},
     "output_type": "execute_result"
    }
   ],
   "source": [
    "# Write a Pandas program to create a subset of a given series based on value and condition.\n",
    "import pandas as pd\n",
    "ser = pd.Series([1,2,3,4,5,6,7,8,9,10,11,12,13,14,15])\n",
    "ser_sub = ser.head(5)\n",
    "ser_sub"
   ]
  },
  {
   "cell_type": "code",
   "execution_count": 57,
   "metadata": {},
   "outputs": [
    {
     "data": {
      "text/plain": [
       "e    5\n",
       "d    4\n",
       "c    3\n",
       "b    2\n",
       "a    1\n",
       "dtype: int64"
      ]
     },
     "execution_count": 57,
     "metadata": {},
     "output_type": "execute_result"
    }
   ],
   "source": [
    "# Write a Pandas program to change the order of index of a given series.\n",
    "import pandas as pd\n",
    "s=pd.Series([1,2,3,4,5],index=['a','b','c','d','e'])\n",
    "ser=s.reindex(['e','d','c','b','a'])\n",
    "ser"
   ]
  },
  {
   "cell_type": "code",
   "execution_count": 58,
   "metadata": {},
   "outputs": [
    {
     "name": "stdout",
     "output_type": "stream",
     "text": [
      "5.5 3.0276503540974917 9.166666666666666\n"
     ]
    }
   ],
   "source": [
    "# Write a Pandas program to create the mean and standard deviation of the data of a given Series.\n",
    "import pandas as pd\n",
    "s = pd.Series([1,2,3,4,5,6,7,8,9,10])\n",
    "print(s.mean(), s.std(), s.var())"
   ]
  },
  {
   "cell_type": "code",
   "execution_count": 64,
   "metadata": {},
   "outputs": [
    {
     "data": {
      "text/plain": [
       "0    1\n",
       "1    2\n",
       "2    3\n",
       "dtype: int64"
      ]
     },
     "execution_count": 64,
     "metadata": {},
     "output_type": "execute_result"
    }
   ],
   "source": [
    "# Write a Pandas program to get the items of a given series not present in another given series.\n",
    "import pandas as pd\n",
    "ser1 = pd.Series([1,2,3,4,5])\n",
    "ser2 = pd.Series([4,5,6,7,8])\n",
    "\n",
    "i = ser1[~ser1.isin(ser2)]\n",
    "i\n"
   ]
  },
  {
   "cell_type": "code",
   "execution_count": 65,
   "metadata": {},
   "outputs": [
    {
     "data": {
      "text/plain": [
       "3    4\n",
       "4    5\n",
       "dtype: int64"
      ]
     },
     "execution_count": 65,
     "metadata": {},
     "output_type": "execute_result"
    }
   ],
   "source": [
    "# Write a Pandas program to get the items which are common of two given series.\n",
    "import pandas as pd\n",
    "ser1 = pd.Series([1,2,3,4,5])\n",
    "ser2 = pd.Series([4,5,6,7,8])\n",
    "\n",
    "i = ser1[ser1.isin(ser2)]\n",
    "i"
   ]
  },
  {
   "cell_type": "code",
   "execution_count": 66,
   "metadata": {},
   "outputs": [
    {
     "data": {
      "text/plain": [
       "0    1\n",
       "1    2\n",
       "2    3\n",
       "5    6\n",
       "6    7\n",
       "7    8\n",
       "dtype: int64"
      ]
     },
     "execution_count": 66,
     "metadata": {},
     "output_type": "execute_result"
    }
   ],
   "source": [
    "# Write a Pandas program to get the items which are not common of two given series.\n",
    "import pandas as pd\n",
    "ser1 = pd.Series([1,2,3,4,5])\n",
    "ser2 = pd.Series([4,5,6,7,8])\n",
    "\n",
    "ser11 = pd.Series(np.union1d(ser1,ser2))\n",
    "ser22 = pd.Series(np.intersect1d(ser1,ser2))\n",
    "i = ser11[~ser11.isin(ser22)]\n",
    "i"
   ]
  },
  {
   "cell_type": "code",
   "execution_count": 71,
   "metadata": {},
   "outputs": [
    {
     "data": {
      "text/plain": [
       "count    10.00000\n",
       "mean      5.50000\n",
       "std       3.02765\n",
       "min       1.00000\n",
       "25%       3.25000\n",
       "50%       5.50000\n",
       "75%       7.75000\n",
       "max      10.00000\n",
       "dtype: float64"
      ]
     },
     "execution_count": 71,
     "metadata": {},
     "output_type": "execute_result"
    }
   ],
   "source": [
    "# Write a Pandas program to compute the minimum, 25th percentile, median, 75th, and maximum of a given series\n",
    "import pandas as pd\n",
    "s = pd.Series([1,2,3,4,5,6,7,8,9,10])\n",
    "# print(s.describe())\n",
    "\n",
    "def min_25_median_75_max(s):\n",
    "    return s.describe()\n",
    "\n",
    "min_25_median_75_max(s)"
   ]
  },
  {
   "cell_type": "code",
   "execution_count": 72,
   "metadata": {},
   "outputs": [
    {
     "name": "stdout",
     "output_type": "stream",
     "text": [
      "Original series: 0      3.000938\n",
      "1     11.370722\n",
      "2     14.612143\n",
      "3      8.990256\n",
      "4     13.925283\n",
      "5     12.056875\n",
      "6     10.884719\n",
      "7      5.719827\n",
      "8      9.242017\n",
      "9     11.020006\n",
      "10     8.167892\n",
      "11    11.740654\n",
      "12     7.665620\n",
      "13    13.267388\n",
      "14    12.690883\n",
      "15     9.582355\n",
      "16     7.874878\n",
      "17    14.118931\n",
      "18     8.247458\n",
      "19     5.526727\n",
      "dtype: float64\n",
      "Minimum: 3.0009381077812103\n",
      "25th percentile: 8.094638666640218\n",
      "Median: 10.233537051661546\n",
      "75th percentile: 12.215377329892807\n",
      "Maximum: 3.480838000148649\n"
     ]
    }
   ],
   "source": [
    "# Write a Pandas program to compute the minimum, 25th percentile, median, 75th, and maximum of a given series\n",
    "import pandas as pd\n",
    "import numpy as np\n",
    "num_state = np.random.RandomState(100)\n",
    "num_series = pd.Series(num_state.normal(10,4,20))\n",
    "print(\"Original series:\", num_series)\n",
    "result = np.percentile(num_series, [0,25,50,75,1])\n",
    "print(\"Minimum:\", result[0])\n",
    "print(\"25th percentile:\", result[1])\n",
    "print(\"Median:\", result[2])\n",
    "print(\"75th percentile:\", result[3])\n",
    "print(\"Maximum:\", result[4])\n"
   ]
  },
  {
   "cell_type": "code",
   "execution_count": 74,
   "metadata": {},
   "outputs": [
    {
     "name": "stdout",
     "output_type": "stream",
     "text": [
      "4    4\n",
      "3    3\n",
      "1    2\n",
      "2    1\n",
      "Name: count, dtype: int64\n"
     ]
    }
   ],
   "source": [
    "# Write a Pandas program to calculate the frequency counts of each unique value of a given series.\n",
    "import pandas as pd\n",
    "s = pd.Series([1, 2, 1, 3, 3, 3, 4, 4, 4, 4])\n",
    "print(s.value_counts())"
   ]
  },
  {
   "cell_type": "code",
   "execution_count": 89,
   "metadata": {},
   "outputs": [
    {
     "name": "stderr",
     "output_type": "stream",
     "text": [
      "/tmp/ipykernel_32491/749578055.py:9: FutureWarning: Setting an item of incompatible dtype is deprecated and will raise an error in a future version of pandas. Value 'Other' has dtype incompatible with int64, please explicitly cast to a compatible dtype first.\n",
      "  s[s!= max_count] = 'Other'\n"
     ]
    },
    {
     "data": {
      "text/plain": [
       "0    Other\n",
       "1    Other\n",
       "2    Other\n",
       "3    Other\n",
       "4    Other\n",
       "5    Other\n",
       "6        4\n",
       "7        4\n",
       "8        4\n",
       "9        4\n",
       "dtype: object"
      ]
     },
     "execution_count": 89,
     "metadata": {},
     "output_type": "execute_result"
    }
   ],
   "source": [
    "# Write a Pandas program to display most frequent value in a given series and replace everything else as 'Other' in the serie\n",
    "import pandas as pd\n",
    "s = pd.Series([1, 2, 1, 3, 3, 3, 4, 4, 4, 4])\n",
    "\n",
    "counts = s.value_counts()\n",
    "\n",
    "max_count = counts.max()\n",
    "\n",
    "s[s!= max_count] = 'Other'\n",
    "s[~s.isin(s.value_counts().index[:3])] = 'Other'\n",
    "s\n"
   ]
  },
  {
   "cell_type": "code",
   "execution_count": 91,
   "metadata": {},
   "outputs": [
    {
     "name": "stdout",
     "output_type": "stream",
     "text": [
      "Index([4, 9, 14, 16, 17, 18, 19, 20, 21, 22, 23, 24, 25, 26], dtype='int64')\n",
      "(array([ 4,  9, 14, 16, 17, 18, 19, 20, 21, 22, 23, 24, 25, 26]),)\n"
     ]
    }
   ],
   "source": [
    "# Write a Pandas program to find the positions of numbers that are multiples of 5 of a given series.\n",
    "import pandas as pd\n",
    "s = pd.Series([1, 2, 3, 4, 5, 6, 7, 8, 9, 10, 11, 12, 13, 14, 15, 16, 20, 25, 30, 35, 40, 45, 50, 55, 60, 65, 70])\n",
    "print(s.index[s%5==0])\n",
    "# or\n",
    "print(np.where(s%5==0))"
   ]
  },
  {
   "cell_type": "code",
   "execution_count": 93,
   "metadata": {},
   "outputs": [
    {
     "name": "stdout",
     "output_type": "stream",
     "text": [
      "0    10\n",
      "2    30\n",
      "4    50\n",
      "dtype: int64\n"
     ]
    }
   ],
   "source": [
    "# Write a Pandas program to extract items at given positions of a given series.\n",
    "import pandas as pd\n",
    "\n",
    "s = pd.Series([10, 20, 30, 40, 50, 60])\n",
    "positions = [0, 2, 4]\n",
    "print(s.take(positions))"
   ]
  },
  {
   "cell_type": "code",
   "execution_count": 101,
   "metadata": {},
   "outputs": [
    {
     "data": {
      "text/plain": [
       "[0, 1, 7, 8, 9, 2]"
      ]
     },
     "execution_count": 101,
     "metadata": {},
     "output_type": "execute_result"
    }
   ],
   "source": [
    "# Write a Pandas program to get the positions of items of a given series in another given series.\n",
    "import pandas as pd\n",
    "\n",
    "s1 = pd.Series([1, 2, 6, 7, 8, 9, 10, 3, 4, 5,])\n",
    "s2 = pd.Series([1, 2, 3, 4, 5, 6])\n",
    "\n",
    "# for i in s2:\n",
    "#     s3 = [s1.index[s1 == i]]\n",
    "#     print(s3)\n",
    "    \n",
    "s4 = [pd.Index(s1).get_loc(i) for i in s2]\n",
    "s4\n",
    "\n",
    "\n",
    "\n"
   ]
  },
  {
   "cell_type": "code",
   "execution_count": 10,
   "metadata": {},
   "outputs": [
    {
     "data": {
      "text/plain": [
       "0    PandaS\n",
       "1    PythoN\n",
       "2     NumpY\n",
       "3    PydatA\n",
       "4        C#\n",
       "dtype: object"
      ]
     },
     "execution_count": 10,
     "metadata": {},
     "output_type": "execute_result"
    }
   ],
   "source": [
    "# Write a Pandas program convert the first and last character of each word to upper case in each word of a given series.\n",
    "import pandas as pd\n",
    "\n",
    "d = pd.Series(['pandas', 'python', 'numpy', 'pydata', 'c#'])\n",
    "\n",
    "d = d.map(lambda x: x[0].upper() + x[1:-1] + x[-1].upper())\n",
    "d"
   ]
  },
  {
   "cell_type": "code",
   "execution_count": 18,
   "metadata": {},
   "outputs": [
    {
     "data": {
      "text/plain": [
       "0    6\n",
       "1    6\n",
       "2    5\n",
       "3    6\n",
       "4    2\n",
       "dtype: int64"
      ]
     },
     "execution_count": 18,
     "metadata": {},
     "output_type": "execute_result"
    }
   ],
   "source": [
    "# Write a Pandas program to calculate the number of characters in each word in a given series.\n",
    "import pandas as pd\n",
    "import matplotlib.pyplot as plt\n",
    "d = pd.Series(['pandas', 'python', 'numpy', 'pydata', 'c#'])\n",
    "n = d.str.len()\n",
    "n\n",
    "# n.plot.bar()\n",
    "\n"
   ]
  },
  {
   "cell_type": "code",
   "execution_count": 21,
   "metadata": {},
   "outputs": [
    {
     "name": "stdout",
     "output_type": "stream",
     "text": [
      "[nan, nan, 1.0, 1.0, 1.0, 1.0, 0.0, 2.0]\n"
     ]
    }
   ],
   "source": [
    "# Write a Pandas program to compute difference of differences between consecutive numbers of a given series.\n",
    "import pandas as pd\n",
    "d = pd.Series([1, 3, 6, 10, 15, 21, 27, 35])\n",
    "# print(d.diff())\n",
    "# print(d.diff().diff())\n",
    "\n",
    "# or \n",
    "print(d.diff().diff().tolist())"
   ]
  },
  {
   "cell_type": "code",
   "execution_count": 29,
   "metadata": {},
   "outputs": [
    {
     "data": {
      "text/plain": [
       "0   2015-01-01 00:00:00\n",
       "1   2016-02-10 00:00:00\n",
       "2   2018-03-07 00:00:00\n",
       "3   2014-05-06 00:00:00\n",
       "4   2016-04-12 00:00:00\n",
       "5   2019-04-06 11:20:00\n",
       "dtype: datetime64[ns]"
      ]
     },
     "execution_count": 29,
     "metadata": {},
     "output_type": "execute_result"
    }
   ],
   "source": [
    "# Write a Pandas program to convert a series of date strings to a timeseries.\n",
    "import pandas as pd\n",
    "ds = pd.Series(['01 Jan 2015', '10-02-2016', '20180307', '2014/05/06', '2016-04-12', '2019-04-06T11:20'])\n",
    "ts = pd.to_datetime(ds, format='mixed', dayfirst=True)\n",
    "ts"
   ]
  },
  {
   "cell_type": "code",
   "execution_count": 45,
   "metadata": {},
   "outputs": [
    {
     "name": "stdout",
     "output_type": "stream",
     "text": [
      "Day of the month:  [1, 2, 7, 6, 12, 6]\n",
      "Day of the year: [1, 276, 66, 126, 103, 96]\n",
      "Week number: [1, 39, 10, 19, 15, 14]\n",
      "Day of the week: ['Thursday', 'Sunday', 'Wednesday', 'Tuesday', 'Tuesday', 'Saturday']\n"
     ]
    }
   ],
   "source": [
    "# Write a Pandas program to get the day of month, day of year, week number and day of week from a given series of date strings.\n",
    "import pandas as pd\n",
    "from dateutil.parser import parse\n",
    "\n",
    "ds = pd.Series(['01 Jan 2015', '10-02-2016', '20180307', '2014/05/06', '2016-04-12', '2019-04-06T11:20'])\n",
    "ts = ds.map(lambda x: parse(x))\n",
    "\n",
    "print(\"Day of the month: \", ts.dt.day.to_list())\n",
    "print(\"Day of the year:\", ts.dt.dayofyear.to_list())\n",
    "print(\"Week number:\", ts.dt.isocalendar().week.to_list())\n",
    "print(\"Day of the week:\", ts.dt.day_name().to_list())\n"
   ]
  },
  {
   "cell_type": "code",
   "execution_count": 52,
   "metadata": {},
   "outputs": [
    {
     "data": {
      "text/plain": [
       "0   2014-01-15\n",
       "1   2015-02-15\n",
       "2   2019-03-15\n",
       "3   2012-04-15\n",
       "4   2017-05-15\n",
       "5   2018-06-15\n",
       "dtype: datetime64[ns]"
      ]
     },
     "execution_count": 52,
     "metadata": {},
     "output_type": "execute_result"
    }
   ],
   "source": [
    "# Write a Pandas program to convert year-month string to dates adding a specified day of the month.\n",
    "import pandas as pd\n",
    "from dateutil.parser import parse\n",
    "ds = pd.Series(['Jan 2014','Feb 2015','March 2019', 'April 2012', 'May 2017', 'June 2018'])\n",
    "ts = ds.map(lambda x: parse('15' + x))\n",
    "ts "
   ]
  },
  {
   "cell_type": "code",
   "execution_count": 58,
   "metadata": {},
   "outputs": [
    {
     "name": "stdout",
     "output_type": "stream",
     "text": [
      "15.7797338380595\n"
     ]
    }
   ],
   "source": [
    "# Write a Pandas program to compute the Euclidean distance between two given series.\n",
    "# Euclidean distance\n",
    "# From Wikipedia,\n",
    "# In mathematics, the Euclidean distance or Euclidean metric is the \"ordinary\" straight-line distance between two points in Euclidean space. With this distance, Euclidean space becomes a metric space. The associated norm is called the Euclidean norm.\n",
    "import pandas as pd\n",
    "import numpy as np\n",
    "\n",
    "ds = pd.Series([1,2,3,4,5,6,7,8,9])\n",
    "ds1 = pd.Series([10,9,8,7,6,5,4,3,2])\n",
    "print(np.linalg.norm(ds-ds1))"
   ]
  },
  {
   "cell_type": "code",
   "execution_count": 5,
   "metadata": {},
   "outputs": [
    {
     "name": "stdout",
     "output_type": "stream",
     "text": [
      "Series([], dtype: object)\n",
      "0     Apple\n",
      "1    Orange\n",
      "4     Money\n",
      "5     White\n",
      "dtype: object\n"
     ]
    }
   ],
   "source": [
    "# Write a Pandas program to filter words from a given series that contain atleast two vowels.\n",
    "import pandas as pd\n",
    "from collections import Counter\n",
    "\n",
    "s = pd.Series(['Apple', 'Orange', 'Plan', 'Python', 'Money', 'White'])\n",
    "print(s[s.str.contains(r'[aeiou]{2,}')])\n",
    "words = s.map(lambda c: sum([Counter(c.lower()).get(i,0) for i in list('aeiou')]) >= 2)\n",
    "print(s[words])"
   ]
  },
  {
   "cell_type": "code",
   "execution_count": 13,
   "metadata": {},
   "outputs": [
    {
     "data": {
      "text/plain": [
       "array([5, 7])"
      ]
     },
     "execution_count": 13,
     "metadata": {},
     "output_type": "execute_result"
    }
   ],
   "source": [
    "# Write a Pandas program to find the positions of the values neighboured by smaller values on both sides in a given series.\n",
    "import pandas as pd\n",
    "import numpy as np\n",
    "d = pd.Series([1, 2, 3, 4, 5, 8, 3, 20, 1])\n",
    "\n",
    "temp = np.diff(np.sign(np.diff(d)))\n",
    "pos = np.where(temp == -2)[0] + 1\n",
    "pos"
   ]
  },
  {
   "cell_type": "code",
   "execution_count": 20,
   "metadata": {},
   "outputs": [
    {
     "data": {
      "text/plain": [
       "'Pythoneiseaeprogrammingelanguage'"
      ]
     },
     "execution_count": 20,
     "metadata": {},
     "output_type": "execute_result"
    }
   ],
   "source": [
    "# Write a Pandas program to replace missing white spaces in a given string with the least frequent character.\n",
    "import pandas as pd\n",
    "\n",
    "str1 = \"Python is a programming language\"\n",
    "s = pd.Series(list(str1))\n",
    "s\n",
    "freq = s.value_counts()\n",
    "freq\n",
    "current_freq = freq.dropna().index[-1]\n",
    "str2 = \"\".join(s.replace(' ', current_freq))\n",
    "str2"
   ]
  },
  {
   "cell_type": "code",
   "execution_count": 31,
   "metadata": {},
   "outputs": [
    {
     "name": "stdout",
     "output_type": "stream",
     "text": [
      "[0.5, 0.14, -0.06, 0.25, 0.18, 0.2, 0.35, -0.05, -0.17, -0.04]\n"
     ]
    }
   ],
   "source": [
    "# Write a Pandas program to compute the autocorrelations of a given numeric series. Autocorrelation, also known as serial correlation, is the correlation of a signal with a delayed copy of itself as a function of delay. Informally, it is the similarity between observations as a function of the time lag between them.\n",
    "\n",
    "import pandas as pd\n",
    "\n",
    "data = pd.Series([10, 20, 30, 45, 54, 63, 74, 18, 79, 100, 110, 40, 50, 60, 70, 80, 90, 100])\n",
    "auto_corr = [data.autocorr(i).round(2) for i in range(11)]\n",
    "print(auto_corr[1:])\n"
   ]
  },
  {
   "cell_type": "code",
   "execution_count": 35,
   "metadata": {},
   "outputs": [
    {
     "name": "stdout",
     "output_type": "stream",
     "text": [
      "All Sundays in 2024 are:\n",
      "DatetimeIndex(['2024-01-07', '2024-01-14', '2024-01-21', '2024-01-28',\n",
      "               '2024-02-04', '2024-02-11', '2024-02-18', '2024-02-25',\n",
      "               '2024-03-03', '2024-03-10', '2024-03-17', '2024-03-24',\n",
      "               '2024-03-31', '2024-04-07', '2024-04-14', '2024-04-21',\n",
      "               '2024-04-28', '2024-05-05', '2024-05-12', '2024-05-19',\n",
      "               '2024-05-26', '2024-06-02', '2024-06-09', '2024-06-16',\n",
      "               '2024-06-23', '2024-06-30', '2024-07-07', '2024-07-14',\n",
      "               '2024-07-21', '2024-07-28', '2024-08-04', '2024-08-11',\n",
      "               '2024-08-18', '2024-08-25', '2024-09-01', '2024-09-08',\n",
      "               '2024-09-15', '2024-09-22', '2024-09-29', '2024-10-06',\n",
      "               '2024-10-13', '2024-10-20', '2024-10-27', '2024-11-03',\n",
      "               '2024-11-10', '2024-11-17', '2024-11-24', '2024-12-01',\n",
      "               '2024-12-08', '2024-12-15', '2024-12-22', '2024-12-29'],\n",
      "              dtype='datetime64[ns]', freq='W-SUN')\n"
     ]
    }
   ],
   "source": [
    "# . Write a Pandas program to create a TimeSeries to display all the Sundays of given year.\n",
    "import pandas as pd\n",
    "\n",
    "data = pd.date_range(start=str(2024), end=str(2025), freq='W-SUN')\n",
    "print(\"All Sundays in year 2024 are: \", data)\n",
    "\n",
    "# OR\n",
    "\n",
    "def all_sundays(year):\n",
    "    return pd.date_range(start=str(year), end=str(year+1), freq='W-SUN')\n",
    "\n",
    "year = 2024\n",
    "sundays_series = all_sundays(year)\n",
    "print(\"All Sundays in\", year, \"are:\")\n",
    "print(sundays_series)\n",
    "\n"
   ]
  },
  {
   "cell_type": "code",
   "execution_count": 42,
   "metadata": {},
   "outputs": [
    {
     "data": {
      "text/html": [
       "<div>\n",
       "<style scoped>\n",
       "    .dataframe tbody tr th:only-of-type {\n",
       "        vertical-align: middle;\n",
       "    }\n",
       "\n",
       "    .dataframe tbody tr th {\n",
       "        vertical-align: top;\n",
       "    }\n",
       "\n",
       "    .dataframe thead th {\n",
       "        text-align: right;\n",
       "    }\n",
       "</style>\n",
       "<table border=\"1\" class=\"dataframe\">\n",
       "  <thead>\n",
       "    <tr style=\"text-align: right;\">\n",
       "      <th></th>\n",
       "      <th>index</th>\n",
       "      <th>0</th>\n",
       "    </tr>\n",
       "  </thead>\n",
       "  <tbody>\n",
       "    <tr>\n",
       "      <th>0</th>\n",
       "      <td>a</td>\n",
       "      <td>1</td>\n",
       "    </tr>\n",
       "    <tr>\n",
       "      <th>1</th>\n",
       "      <td>b</td>\n",
       "      <td>2</td>\n",
       "    </tr>\n",
       "    <tr>\n",
       "      <th>2</th>\n",
       "      <td>c</td>\n",
       "      <td>3</td>\n",
       "    </tr>\n",
       "    <tr>\n",
       "      <th>3</th>\n",
       "      <td>d</td>\n",
       "      <td>4</td>\n",
       "    </tr>\n",
       "    <tr>\n",
       "      <th>4</th>\n",
       "      <td>e</td>\n",
       "      <td>5</td>\n",
       "    </tr>\n",
       "  </tbody>\n",
       "</table>\n",
       "</div>"
      ],
      "text/plain": [
       "  index  0\n",
       "0     a  1\n",
       "1     b  2\n",
       "2     c  3\n",
       "3     d  4\n",
       "4     e  5"
      ]
     },
     "execution_count": 42,
     "metadata": {},
     "output_type": "execute_result"
    }
   ],
   "source": [
    "# Write a Pandas program to convert given series into a dataframe with its index as another column on the dataframe.\n",
    "import pandas as pd\n",
    "\n",
    "ds = pd.Series([1, 2, 3, 4, 5], index=['a', 'b', 'c', 'd', 'e'])\n",
    "df = ds.reset_index()\n",
    "\n",
    "df"
   ]
  },
  {
   "cell_type": "code",
   "execution_count": 46,
   "metadata": {},
   "outputs": [
    {
     "data": {
      "text/plain": [
       "0    1\n",
       "1    2\n",
       "2    3\n",
       "0    4\n",
       "1    5\n",
       "2    6\n",
       "dtype: int64"
      ]
     },
     "execution_count": 46,
     "metadata": {},
     "output_type": "execute_result"
    }
   ],
   "source": [
    "# Write a Pandas program to stack two given series vertically and horizontally.\n",
    "import pandas as pd\n",
    "\n",
    "ds1 = pd.Series([1,2,3])\n",
    "ds2 = pd.Series([4,5,6])\n",
    "\n",
    "# Horizontally\n",
    "ds = pd.concat([ds1,ds2],axis=1)\n",
    "ds\n",
    "# Vertically\n",
    "ds0 = pd.concat([ds1,ds2],axis=0)\n",
    "ds0"
   ]
  },
  {
   "cell_type": "code",
   "execution_count": 49,
   "metadata": {},
   "outputs": [
    {
     "name": "stdout",
     "output_type": "stream",
     "text": [
      "0    True\n",
      "1    True\n",
      "2    True\n",
      "3    True\n",
      "4    True\n",
      "dtype: bool\n"
     ]
    }
   ],
   "source": [
    "# Write a Pandas program to check the equality of two given series.\n",
    "import pandas as pd\n",
    "\n",
    "s1 = pd.Series([1, 2, 3, 4, 5])\n",
    "s2 = pd.Series([1, 2, 3, 4, 5])\n",
    "\n",
    "equal = s1 == s2\n",
    "print(equal)"
   ]
  },
  {
   "cell_type": "code",
   "execution_count": 55,
   "metadata": {},
   "outputs": [
    {
     "name": "stdout",
     "output_type": "stream",
     "text": [
      "The index of the first occurrence of the smallest value is:  2\n",
      "The index of the first occurrence of the largest value is:  3\n"
     ]
    }
   ],
   "source": [
    "#  Write a Pandas program to find the index of the first occurrence of the smallest and largest value of a given series.\n",
    "import pandas as pd\n",
    "\n",
    "data = {'Name': ['Jai', 'Princi', 'Gaurav', 'Anuj'], 'Age': [27, 24, 22, 32], 'Address': ['Delhi', 'Kanpur', 'Allahabad', 'Kannauj'], 'Qualification': ['Msc', 'MA', 'MCA', 'Phd']}\n",
    "df = pd.DataFrame(data)\n",
    "\n",
    "ds = pd.Series(data=df['Age'])\n",
    "ds\n",
    "min_index = ds.idxmin()\n",
    "max_index = ds.idxmax()\n",
    "print(\"The index of the first occurrence of the smallest value is: \", min_index)\n",
    "print(\"The index of the first occurrence of the largest value is: \", max_index)"
   ]
  },
  {
   "cell_type": "code",
   "execution_count": 61,
   "metadata": {},
   "outputs": [
    {
     "name": "stdout",
     "output_type": "stream",
     "text": [
      "       A     B     C\n",
      "0  False  True  True\n",
      "1  False  True  True\n",
      "2  False  True  True\n",
      "3  False  True  True\n"
     ]
    }
   ],
   "source": [
    "# Write a Pandas program to check inequality over the index axis of a given dataframe and a given series.\n",
    "import pandas as pd\n",
    "\n",
    "data = {'A': [1, 2, 3, 4], 'B': [5, 6, 7, 8], 'C': [9, 10, 11, 12]}\n",
    "df = pd.DataFrame(data=data)\n",
    "ds = pd.Series(data=df['A'])\n",
    "\n",
    "print(df.ne(ds, axis = 0))  #ne stands for not equal"
   ]
  }
 ],
 "metadata": {
  "kernelspec": {
   "display_name": "Python 3",
   "language": "python",
   "name": "python3"
  },
  "language_info": {
   "codemirror_mode": {
    "name": "ipython",
    "version": 3
   },
   "file_extension": ".py",
   "mimetype": "text/x-python",
   "name": "python",
   "nbconvert_exporter": "python",
   "pygments_lexer": "ipython3",
   "version": "3.10.12"
  }
 },
 "nbformat": 4,
 "nbformat_minor": 2
}
