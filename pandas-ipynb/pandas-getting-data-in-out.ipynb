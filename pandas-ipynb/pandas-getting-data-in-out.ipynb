{
 "cells": [
  {
   "cell_type": "markdown",
   "metadata": {},
   "source": [
    "**CSV**<br>\n",
    "Writing to a csv file."
   ]
  },
  {
   "cell_type": "code",
   "execution_count": 1,
   "metadata": {},
   "outputs": [],
   "source": [
    "import numpy as np\n",
    "import pandas as pd"
   ]
  },
  {
   "cell_type": "code",
   "execution_count": 7,
   "metadata": {},
   "outputs": [],
   "source": [
    "dates = pd.date_range('20190101', periods=8)"
   ]
  },
  {
   "cell_type": "code",
   "execution_count": 8,
   "metadata": {},
   "outputs": [],
   "source": [
    "df = pd.DataFrame(np.random.randn(8, 4), index=dates, columns=list('PQRS'))"
   ]
  },
  {
   "cell_type": "code",
   "execution_count": 9,
   "metadata": {},
   "outputs": [],
   "source": [
    "In [143]: df.to_csv('foo.csv')"
   ]
  },
  {
   "cell_type": "markdown",
   "metadata": {},
   "source": [
    "Reading from a csv file."
   ]
  },
  {
   "cell_type": "code",
   "execution_count": 10,
   "metadata": {},
   "outputs": [
    {
     "data": {
      "text/html": [
       "<div>\n",
       "<style scoped>\n",
       "    .dataframe tbody tr th:only-of-type {\n",
       "        vertical-align: middle;\n",
       "    }\n",
       "\n",
       "    .dataframe tbody tr th {\n",
       "        vertical-align: top;\n",
       "    }\n",
       "\n",
       "    .dataframe thead th {\n",
       "        text-align: right;\n",
       "    }\n",
       "</style>\n",
       "<table border=\"1\" class=\"dataframe\">\n",
       "  <thead>\n",
       "    <tr style=\"text-align: right;\">\n",
       "      <th></th>\n",
       "      <th>Unnamed: 0</th>\n",
       "      <th>P</th>\n",
       "      <th>Q</th>\n",
       "      <th>R</th>\n",
       "      <th>S</th>\n",
       "    </tr>\n",
       "  </thead>\n",
       "  <tbody>\n",
       "    <tr>\n",
       "      <th>0</th>\n",
       "      <td>2019-01-01</td>\n",
       "      <td>0.128082</td>\n",
       "      <td>0.784592</td>\n",
       "      <td>-1.139479</td>\n",
       "      <td>0.578256</td>\n",
       "    </tr>\n",
       "    <tr>\n",
       "      <th>1</th>\n",
       "      <td>2019-01-02</td>\n",
       "      <td>0.873370</td>\n",
       "      <td>0.815321</td>\n",
       "      <td>0.778275</td>\n",
       "      <td>-0.115625</td>\n",
       "    </tr>\n",
       "    <tr>\n",
       "      <th>2</th>\n",
       "      <td>2019-01-03</td>\n",
       "      <td>1.116831</td>\n",
       "      <td>-0.023869</td>\n",
       "      <td>-1.115379</td>\n",
       "      <td>0.526202</td>\n",
       "    </tr>\n",
       "    <tr>\n",
       "      <th>3</th>\n",
       "      <td>2019-01-04</td>\n",
       "      <td>0.581541</td>\n",
       "      <td>-0.889688</td>\n",
       "      <td>0.169974</td>\n",
       "      <td>0.057896</td>\n",
       "    </tr>\n",
       "    <tr>\n",
       "      <th>4</th>\n",
       "      <td>2019-01-05</td>\n",
       "      <td>-0.993359</td>\n",
       "      <td>1.543000</td>\n",
       "      <td>0.099995</td>\n",
       "      <td>3.336584</td>\n",
       "    </tr>\n",
       "    <tr>\n",
       "      <th>5</th>\n",
       "      <td>2019-01-06</td>\n",
       "      <td>-0.696077</td>\n",
       "      <td>-0.472649</td>\n",
       "      <td>0.156410</td>\n",
       "      <td>-2.057440</td>\n",
       "    </tr>\n",
       "    <tr>\n",
       "      <th>6</th>\n",
       "      <td>2019-01-07</td>\n",
       "      <td>0.190225</td>\n",
       "      <td>0.038607</td>\n",
       "      <td>1.029302</td>\n",
       "      <td>1.548920</td>\n",
       "    </tr>\n",
       "    <tr>\n",
       "      <th>7</th>\n",
       "      <td>2019-01-08</td>\n",
       "      <td>0.158961</td>\n",
       "      <td>0.725732</td>\n",
       "      <td>-0.295778</td>\n",
       "      <td>-0.001887</td>\n",
       "    </tr>\n",
       "  </tbody>\n",
       "</table>\n",
       "</div>"
      ],
      "text/plain": [
       "   Unnamed: 0         P         Q         R         S\n",
       "0  2019-01-01  0.128082  0.784592 -1.139479  0.578256\n",
       "1  2019-01-02  0.873370  0.815321  0.778275 -0.115625\n",
       "2  2019-01-03  1.116831 -0.023869 -1.115379  0.526202\n",
       "3  2019-01-04  0.581541 -0.889688  0.169974  0.057896\n",
       "4  2019-01-05 -0.993359  1.543000  0.099995  3.336584\n",
       "5  2019-01-06 -0.696077 -0.472649  0.156410 -2.057440\n",
       "6  2019-01-07  0.190225  0.038607  1.029302  1.548920\n",
       "7  2019-01-08  0.158961  0.725732 -0.295778 -0.001887"
      ]
     },
     "execution_count": 10,
     "metadata": {},
     "output_type": "execute_result"
    }
   ],
   "source": [
    "pd.read_csv('foo.csv')"
   ]
  },
  {
   "cell_type": "markdown",
   "metadata": {},
   "source": [
    "**HDF5**<br>\n",
    "Writing to a HDF5 Store."
   ]
  },
  {
   "cell_type": "code",
   "execution_count": 11,
   "metadata": {},
   "outputs": [],
   "source": [
    "df.to_hdf('foo.h5', 'df')"
   ]
  },
  {
   "cell_type": "markdown",
   "metadata": {},
   "source": [
    "Reading from a HDF5 Store."
   ]
  },
  {
   "cell_type": "code",
   "execution_count": 12,
   "metadata": {},
   "outputs": [
    {
     "data": {
      "text/html": [
       "<div>\n",
       "<style scoped>\n",
       "    .dataframe tbody tr th:only-of-type {\n",
       "        vertical-align: middle;\n",
       "    }\n",
       "\n",
       "    .dataframe tbody tr th {\n",
       "        vertical-align: top;\n",
       "    }\n",
       "\n",
       "    .dataframe thead th {\n",
       "        text-align: right;\n",
       "    }\n",
       "</style>\n",
       "<table border=\"1\" class=\"dataframe\">\n",
       "  <thead>\n",
       "    <tr style=\"text-align: right;\">\n",
       "      <th></th>\n",
       "      <th>P</th>\n",
       "      <th>Q</th>\n",
       "      <th>R</th>\n",
       "      <th>S</th>\n",
       "    </tr>\n",
       "  </thead>\n",
       "  <tbody>\n",
       "    <tr>\n",
       "      <th>2019-01-01</th>\n",
       "      <td>0.128082</td>\n",
       "      <td>0.784592</td>\n",
       "      <td>-1.139479</td>\n",
       "      <td>0.578256</td>\n",
       "    </tr>\n",
       "    <tr>\n",
       "      <th>2019-01-02</th>\n",
       "      <td>0.873370</td>\n",
       "      <td>0.815321</td>\n",
       "      <td>0.778275</td>\n",
       "      <td>-0.115625</td>\n",
       "    </tr>\n",
       "    <tr>\n",
       "      <th>2019-01-03</th>\n",
       "      <td>1.116831</td>\n",
       "      <td>-0.023869</td>\n",
       "      <td>-1.115379</td>\n",
       "      <td>0.526202</td>\n",
       "    </tr>\n",
       "    <tr>\n",
       "      <th>2019-01-04</th>\n",
       "      <td>0.581541</td>\n",
       "      <td>-0.889688</td>\n",
       "      <td>0.169974</td>\n",
       "      <td>0.057896</td>\n",
       "    </tr>\n",
       "    <tr>\n",
       "      <th>2019-01-05</th>\n",
       "      <td>-0.993359</td>\n",
       "      <td>1.543000</td>\n",
       "      <td>0.099995</td>\n",
       "      <td>3.336584</td>\n",
       "    </tr>\n",
       "    <tr>\n",
       "      <th>2019-01-06</th>\n",
       "      <td>-0.696077</td>\n",
       "      <td>-0.472649</td>\n",
       "      <td>0.156410</td>\n",
       "      <td>-2.057440</td>\n",
       "    </tr>\n",
       "    <tr>\n",
       "      <th>2019-01-07</th>\n",
       "      <td>0.190225</td>\n",
       "      <td>0.038607</td>\n",
       "      <td>1.029302</td>\n",
       "      <td>1.548920</td>\n",
       "    </tr>\n",
       "    <tr>\n",
       "      <th>2019-01-08</th>\n",
       "      <td>0.158961</td>\n",
       "      <td>0.725732</td>\n",
       "      <td>-0.295778</td>\n",
       "      <td>-0.001887</td>\n",
       "    </tr>\n",
       "  </tbody>\n",
       "</table>\n",
       "</div>"
      ],
      "text/plain": [
       "                   P         Q         R         S\n",
       "2019-01-01  0.128082  0.784592 -1.139479  0.578256\n",
       "2019-01-02  0.873370  0.815321  0.778275 -0.115625\n",
       "2019-01-03  1.116831 -0.023869 -1.115379  0.526202\n",
       "2019-01-04  0.581541 -0.889688  0.169974  0.057896\n",
       "2019-01-05 -0.993359  1.543000  0.099995  3.336584\n",
       "2019-01-06 -0.696077 -0.472649  0.156410 -2.057440\n",
       "2019-01-07  0.190225  0.038607  1.029302  1.548920\n",
       "2019-01-08  0.158961  0.725732 -0.295778 -0.001887"
      ]
     },
     "execution_count": 12,
     "metadata": {},
     "output_type": "execute_result"
    }
   ],
   "source": [
    "pd.read_hdf('foo.h5', 'df')"
   ]
  },
  {
   "cell_type": "markdown",
   "metadata": {},
   "source": [
    "**Excel**<br>\n",
    "Writing to an excel file."
   ]
  },
  {
   "cell_type": "code",
   "execution_count": 13,
   "metadata": {},
   "outputs": [],
   "source": [
    "df.to_excel('foo.xlsx', sheet_name='Sheet1')"
   ]
  },
  {
   "cell_type": "markdown",
   "metadata": {},
   "source": [
    "Reading from an excel file."
   ]
  },
  {
   "cell_type": "code",
   "execution_count": 14,
   "metadata": {},
   "outputs": [
    {
     "data": {
      "text/html": [
       "<div>\n",
       "<style scoped>\n",
       "    .dataframe tbody tr th:only-of-type {\n",
       "        vertical-align: middle;\n",
       "    }\n",
       "\n",
       "    .dataframe tbody tr th {\n",
       "        vertical-align: top;\n",
       "    }\n",
       "\n",
       "    .dataframe thead th {\n",
       "        text-align: right;\n",
       "    }\n",
       "</style>\n",
       "<table border=\"1\" class=\"dataframe\">\n",
       "  <thead>\n",
       "    <tr style=\"text-align: right;\">\n",
       "      <th></th>\n",
       "      <th>Unnamed: 0</th>\n",
       "      <th>P</th>\n",
       "      <th>Q</th>\n",
       "      <th>R</th>\n",
       "      <th>S</th>\n",
       "    </tr>\n",
       "  </thead>\n",
       "  <tbody>\n",
       "    <tr>\n",
       "      <th>0</th>\n",
       "      <td>2019-01-01</td>\n",
       "      <td>0.128082</td>\n",
       "      <td>0.784592</td>\n",
       "      <td>-1.139479</td>\n",
       "      <td>0.578256</td>\n",
       "    </tr>\n",
       "    <tr>\n",
       "      <th>1</th>\n",
       "      <td>2019-01-02</td>\n",
       "      <td>0.873370</td>\n",
       "      <td>0.815321</td>\n",
       "      <td>0.778275</td>\n",
       "      <td>-0.115625</td>\n",
       "    </tr>\n",
       "    <tr>\n",
       "      <th>2</th>\n",
       "      <td>2019-01-03</td>\n",
       "      <td>1.116831</td>\n",
       "      <td>-0.023869</td>\n",
       "      <td>-1.115379</td>\n",
       "      <td>0.526202</td>\n",
       "    </tr>\n",
       "    <tr>\n",
       "      <th>3</th>\n",
       "      <td>2019-01-04</td>\n",
       "      <td>0.581541</td>\n",
       "      <td>-0.889688</td>\n",
       "      <td>0.169974</td>\n",
       "      <td>0.057896</td>\n",
       "    </tr>\n",
       "    <tr>\n",
       "      <th>4</th>\n",
       "      <td>2019-01-05</td>\n",
       "      <td>-0.993359</td>\n",
       "      <td>1.543000</td>\n",
       "      <td>0.099995</td>\n",
       "      <td>3.336584</td>\n",
       "    </tr>\n",
       "    <tr>\n",
       "      <th>5</th>\n",
       "      <td>2019-01-06</td>\n",
       "      <td>-0.696077</td>\n",
       "      <td>-0.472649</td>\n",
       "      <td>0.156410</td>\n",
       "      <td>-2.057440</td>\n",
       "    </tr>\n",
       "    <tr>\n",
       "      <th>6</th>\n",
       "      <td>2019-01-07</td>\n",
       "      <td>0.190225</td>\n",
       "      <td>0.038607</td>\n",
       "      <td>1.029302</td>\n",
       "      <td>1.548920</td>\n",
       "    </tr>\n",
       "    <tr>\n",
       "      <th>7</th>\n",
       "      <td>2019-01-08</td>\n",
       "      <td>0.158961</td>\n",
       "      <td>0.725732</td>\n",
       "      <td>-0.295778</td>\n",
       "      <td>-0.001887</td>\n",
       "    </tr>\n",
       "  </tbody>\n",
       "</table>\n",
       "</div>"
      ],
      "text/plain": [
       "  Unnamed: 0         P         Q         R         S\n",
       "0 2019-01-01  0.128082  0.784592 -1.139479  0.578256\n",
       "1 2019-01-02  0.873370  0.815321  0.778275 -0.115625\n",
       "2 2019-01-03  1.116831 -0.023869 -1.115379  0.526202\n",
       "3 2019-01-04  0.581541 -0.889688  0.169974  0.057896\n",
       "4 2019-01-05 -0.993359  1.543000  0.099995  3.336584\n",
       "5 2019-01-06 -0.696077 -0.472649  0.156410 -2.057440\n",
       "6 2019-01-07  0.190225  0.038607  1.029302  1.548920\n",
       "7 2019-01-08  0.158961  0.725732 -0.295778 -0.001887"
      ]
     },
     "execution_count": 14,
     "metadata": {},
     "output_type": "execute_result"
    }
   ],
   "source": [
    "pd.read_excel('foo.xlsx', 'Sheet1', index_col=None, na_values=['NA'])"
   ]
  }
 ],
 "metadata": {
  "kernelspec": {
   "display_name": "Python 3",
   "language": "python",
   "name": "python3"
  },
  "language_info": {
   "codemirror_mode": {
    "name": "ipython",
    "version": 3
   },
   "file_extension": ".py",
   "mimetype": "text/x-python",
   "name": "python",
   "nbconvert_exporter": "python",
   "pygments_lexer": "ipython3",
   "version": "3.7.1"
  }
 },
 "nbformat": 4,
 "nbformat_minor": 2
}
