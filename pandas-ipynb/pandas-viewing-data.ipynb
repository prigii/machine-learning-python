{
 "cells": [
  {
   "cell_type": "markdown",
   "metadata": {},
   "source": [
    "View the top and bottom rows of a data frame:"
   ]
  },
  {
   "cell_type": "code",
   "execution_count": 1,
   "metadata": {},
   "outputs": [],
   "source": [
    "import numpy as np\n",
    "import pandas as pd"
   ]
  },
  {
   "cell_type": "code",
   "execution_count": 2,
   "metadata": {},
   "outputs": [],
   "source": [
    "dates = pd.date_range('20190101', periods=8)"
   ]
  },
  {
   "cell_type": "code",
   "execution_count": 3,
   "metadata": {},
   "outputs": [],
   "source": [
    "df = pd.DataFrame(np.random.randn(8, 4), index=dates, columns=list('PQRS'))"
   ]
  },
  {
   "cell_type": "code",
   "execution_count": 4,
   "metadata": {},
   "outputs": [
    {
     "data": {
      "text/html": [
       "<div>\n",
       "<style scoped>\n",
       "    .dataframe tbody tr th:only-of-type {\n",
       "        vertical-align: middle;\n",
       "    }\n",
       "\n",
       "    .dataframe tbody tr th {\n",
       "        vertical-align: top;\n",
       "    }\n",
       "\n",
       "    .dataframe thead th {\n",
       "        text-align: right;\n",
       "    }\n",
       "</style>\n",
       "<table border=\"1\" class=\"dataframe\">\n",
       "  <thead>\n",
       "    <tr style=\"text-align: right;\">\n",
       "      <th></th>\n",
       "      <th>P</th>\n",
       "      <th>Q</th>\n",
       "      <th>R</th>\n",
       "      <th>S</th>\n",
       "    </tr>\n",
       "  </thead>\n",
       "  <tbody>\n",
       "    <tr>\n",
       "      <td>2019-01-01</td>\n",
       "      <td>0.010378</td>\n",
       "      <td>-1.084898</td>\n",
       "      <td>-0.442402</td>\n",
       "      <td>-0.278284</td>\n",
       "    </tr>\n",
       "    <tr>\n",
       "      <td>2019-01-02</td>\n",
       "      <td>1.863264</td>\n",
       "      <td>0.626363</td>\n",
       "      <td>0.639877</td>\n",
       "      <td>-0.741764</td>\n",
       "    </tr>\n",
       "    <tr>\n",
       "      <td>2019-01-03</td>\n",
       "      <td>-0.727480</td>\n",
       "      <td>-0.473615</td>\n",
       "      <td>0.299163</td>\n",
       "      <td>-2.374019</td>\n",
       "    </tr>\n",
       "    <tr>\n",
       "      <td>2019-01-04</td>\n",
       "      <td>-0.114543</td>\n",
       "      <td>1.873071</td>\n",
       "      <td>-0.721372</td>\n",
       "      <td>-0.759984</td>\n",
       "    </tr>\n",
       "    <tr>\n",
       "      <td>2019-01-05</td>\n",
       "      <td>0.097422</td>\n",
       "      <td>-0.428159</td>\n",
       "      <td>0.056089</td>\n",
       "      <td>-0.035998</td>\n",
       "    </tr>\n",
       "  </tbody>\n",
       "</table>\n",
       "</div>"
      ],
      "text/plain": [
       "                   P         Q         R         S\n",
       "2019-01-01  0.010378 -1.084898 -0.442402 -0.278284\n",
       "2019-01-02  1.863264  0.626363  0.639877 -0.741764\n",
       "2019-01-03 -0.727480 -0.473615  0.299163 -2.374019\n",
       "2019-01-04 -0.114543  1.873071 -0.721372 -0.759984\n",
       "2019-01-05  0.097422 -0.428159  0.056089 -0.035998"
      ]
     },
     "execution_count": 4,
     "metadata": {},
     "output_type": "execute_result"
    }
   ],
   "source": [
    "df.head()"
   ]
  },
  {
   "cell_type": "markdown",
   "metadata": {},
   "source": [
    "<img src=\"https://www.w3resource.com/w3r_images/pandas-viewing-data-1.svg\" alt=\"Pandas Head\" />"
   ]
  },
  {
   "cell_type": "code",
   "execution_count": 5,
   "metadata": {},
   "outputs": [
    {
     "data": {
      "text/html": [
       "<div>\n",
       "<style scoped>\n",
       "    .dataframe tbody tr th:only-of-type {\n",
       "        vertical-align: middle;\n",
       "    }\n",
       "\n",
       "    .dataframe tbody tr th {\n",
       "        vertical-align: top;\n",
       "    }\n",
       "\n",
       "    .dataframe thead th {\n",
       "        text-align: right;\n",
       "    }\n",
       "</style>\n",
       "<table border=\"1\" class=\"dataframe\">\n",
       "  <thead>\n",
       "    <tr style=\"text-align: right;\">\n",
       "      <th></th>\n",
       "      <th>P</th>\n",
       "      <th>Q</th>\n",
       "      <th>R</th>\n",
       "      <th>S</th>\n",
       "    </tr>\n",
       "  </thead>\n",
       "  <tbody>\n",
       "    <tr>\n",
       "      <td>2019-01-06</td>\n",
       "      <td>-0.030784</td>\n",
       "      <td>0.007262</td>\n",
       "      <td>-0.007135</td>\n",
       "      <td>1.159472</td>\n",
       "    </tr>\n",
       "    <tr>\n",
       "      <td>2019-01-07</td>\n",
       "      <td>-0.281074</td>\n",
       "      <td>-0.595091</td>\n",
       "      <td>1.025124</td>\n",
       "      <td>-2.602746</td>\n",
       "    </tr>\n",
       "    <tr>\n",
       "      <td>2019-01-08</td>\n",
       "      <td>0.178235</td>\n",
       "      <td>0.038130</td>\n",
       "      <td>0.305273</td>\n",
       "      <td>-1.551300</td>\n",
       "    </tr>\n",
       "  </tbody>\n",
       "</table>\n",
       "</div>"
      ],
      "text/plain": [
       "                   P         Q         R         S\n",
       "2019-01-06 -0.030784  0.007262 -0.007135  1.159472\n",
       "2019-01-07 -0.281074 -0.595091  1.025124 -2.602746\n",
       "2019-01-08  0.178235  0.038130  0.305273 -1.551300"
      ]
     },
     "execution_count": 5,
     "metadata": {},
     "output_type": "execute_result"
    }
   ],
   "source": [
    "df.tail(3)"
   ]
  },
  {
   "cell_type": "markdown",
   "metadata": {},
   "source": [
    "<img src=\"https://www.w3resource.com/w3r_images/pandas-viewing-data-2.svg\" alt=\"Pandas Tail\" />"
   ]
  },
  {
   "cell_type": "markdown",
   "metadata": {},
   "source": [
    "Display the index, columns:"
   ]
  },
  {
   "cell_type": "code",
   "execution_count": 6,
   "metadata": {},
   "outputs": [
    {
     "data": {
      "text/plain": [
       "DatetimeIndex(['2019-01-01', '2019-01-02', '2019-01-03', '2019-01-04',\n",
       "               '2019-01-05', '2019-01-06', '2019-01-07', '2019-01-08'],\n",
       "              dtype='datetime64[ns]', freq='D')"
      ]
     },
     "execution_count": 6,
     "metadata": {},
     "output_type": "execute_result"
    }
   ],
   "source": [
    "df.index"
   ]
  },
  {
   "cell_type": "code",
   "execution_count": 7,
   "metadata": {},
   "outputs": [
    {
     "data": {
      "text/plain": [
       "Index(['P', 'Q', 'R', 'S'], dtype='object')"
      ]
     },
     "execution_count": 7,
     "metadata": {},
     "output_type": "execute_result"
    }
   ],
   "source": [
    "df.columns"
   ]
  },
  {
   "cell_type": "markdown",
   "metadata": {},
   "source": [
    "DataFrame.to_numpy() gives a NumPy representation of the underlying data."
   ]
  },
  {
   "cell_type": "markdown",
   "metadata": {},
   "source": [
    "DataFrame.to_numpy() is fast and doesn’t require copying data."
   ]
  },
  {
   "cell_type": "code",
   "execution_count": 8,
   "metadata": {},
   "outputs": [
    {
     "data": {
      "text/plain": [
       "array([[ 0.01037757, -1.08489787, -0.44240246, -0.27828417],\n",
       "       [ 1.86326425,  0.62636265,  0.63987705, -0.74176401],\n",
       "       [-0.72747971, -0.47361484,  0.29916325, -2.37401899],\n",
       "       [-0.11454301,  1.87307102, -0.7213719 , -0.75998405],\n",
       "       [ 0.09742166, -0.42815908,  0.05608862, -0.03599818],\n",
       "       [-0.03078364,  0.0072619 , -0.00713497,  1.15947185],\n",
       "       [-0.28107373, -0.59509149,  1.02512422, -2.60274602],\n",
       "       [ 0.17823484,  0.03812998,  0.30527348, -1.55129971]])"
      ]
     },
     "execution_count": 8,
     "metadata": {},
     "output_type": "execute_result"
    }
   ],
   "source": [
    "df.to_numpy()"
   ]
  },
  {
   "cell_type": "markdown",
   "metadata": {},
   "source": [
    "For df2, the DataFrame with multiple dtypes, DataFrame.to_numpy() is relatively expensive."
   ]
  },
  {
   "cell_type": "code",
   "execution_count": 9,
   "metadata": {},
   "outputs": [
    {
     "data": {
      "text/html": [
       "<div>\n",
       "<style scoped>\n",
       "    .dataframe tbody tr th:only-of-type {\n",
       "        vertical-align: middle;\n",
       "    }\n",
       "\n",
       "    .dataframe tbody tr th {\n",
       "        vertical-align: top;\n",
       "    }\n",
       "\n",
       "    .dataframe thead th {\n",
       "        text-align: right;\n",
       "    }\n",
       "</style>\n",
       "<table border=\"1\" class=\"dataframe\">\n",
       "  <thead>\n",
       "    <tr style=\"text-align: right;\">\n",
       "      <th></th>\n",
       "      <th>A</th>\n",
       "      <th>B</th>\n",
       "      <th>C</th>\n",
       "      <th>D</th>\n",
       "      <th>E</th>\n",
       "      <th>F</th>\n",
       "    </tr>\n",
       "  </thead>\n",
       "  <tbody>\n",
       "    <tr>\n",
       "      <td>0</td>\n",
       "      <td>1.0</td>\n",
       "      <td>2019-01-02</td>\n",
       "      <td>1.0</td>\n",
       "      <td>3</td>\n",
       "      <td>test</td>\n",
       "      <td>foo</td>\n",
       "    </tr>\n",
       "    <tr>\n",
       "      <td>1</td>\n",
       "      <td>1.0</td>\n",
       "      <td>2019-01-02</td>\n",
       "      <td>1.0</td>\n",
       "      <td>3</td>\n",
       "      <td>train</td>\n",
       "      <td>foo</td>\n",
       "    </tr>\n",
       "    <tr>\n",
       "      <td>2</td>\n",
       "      <td>1.0</td>\n",
       "      <td>2019-01-02</td>\n",
       "      <td>1.0</td>\n",
       "      <td>3</td>\n",
       "      <td>test</td>\n",
       "      <td>foo</td>\n",
       "    </tr>\n",
       "    <tr>\n",
       "      <td>3</td>\n",
       "      <td>1.0</td>\n",
       "      <td>2019-01-02</td>\n",
       "      <td>1.0</td>\n",
       "      <td>3</td>\n",
       "      <td>train</td>\n",
       "      <td>foo</td>\n",
       "    </tr>\n",
       "  </tbody>\n",
       "</table>\n",
       "</div>"
      ],
      "text/plain": [
       "     A          B    C  D      E    F\n",
       "0  1.0 2019-01-02  1.0  3   test  foo\n",
       "1  1.0 2019-01-02  1.0  3  train  foo\n",
       "2  1.0 2019-01-02  1.0  3   test  foo\n",
       "3  1.0 2019-01-02  1.0  3  train  foo"
      ]
     },
     "execution_count": 9,
     "metadata": {},
     "output_type": "execute_result"
    }
   ],
   "source": [
    "df2 = pd.DataFrame({'A': 1.,\n",
    "                        'B': pd.Timestamp('20190102'),\n",
    "                        'C': pd.Series(1, index=list(range(4)), dtype='float32'),\n",
    "                        'D': np.array([3] * 4, dtype='int32'),\n",
    "                        'E': pd.Categorical([\"test\", \"train\", \"test\", \"train\"]),\n",
    "                        'F': 'foo'})\n",
    "df2"
   ]
  },
  {
   "cell_type": "code",
   "execution_count": 10,
   "metadata": {},
   "outputs": [
    {
     "data": {
      "text/plain": [
       "array([[1.0, Timestamp('2019-01-02 00:00:00'), 1.0, 3, 'test', 'foo'],\n",
       "       [1.0, Timestamp('2019-01-02 00:00:00'), 1.0, 3, 'train', 'foo'],\n",
       "       [1.0, Timestamp('2019-01-02 00:00:00'), 1.0, 3, 'test', 'foo'],\n",
       "       [1.0, Timestamp('2019-01-02 00:00:00'), 1.0, 3, 'train', 'foo']],\n",
       "      dtype=object)"
      ]
     },
     "execution_count": 10,
     "metadata": {},
     "output_type": "execute_result"
    }
   ],
   "source": [
    "df2.to_numpy()"
   ]
  },
  {
   "cell_type": "markdown",
   "metadata": {},
   "source": [
    "Note: DataFrame.to_numpy() does not include the index or column labels in the output."
   ]
  },
  {
   "cell_type": "markdown",
   "metadata": {},
   "source": [
    "describe() function shows a quick statistic summary of your data:"
   ]
  },
  {
   "cell_type": "code",
   "execution_count": 11,
   "metadata": {},
   "outputs": [
    {
     "data": {
      "text/html": [
       "<div>\n",
       "<style scoped>\n",
       "    .dataframe tbody tr th:only-of-type {\n",
       "        vertical-align: middle;\n",
       "    }\n",
       "\n",
       "    .dataframe tbody tr th {\n",
       "        vertical-align: top;\n",
       "    }\n",
       "\n",
       "    .dataframe thead th {\n",
       "        text-align: right;\n",
       "    }\n",
       "</style>\n",
       "<table border=\"1\" class=\"dataframe\">\n",
       "  <thead>\n",
       "    <tr style=\"text-align: right;\">\n",
       "      <th></th>\n",
       "      <th>P</th>\n",
       "      <th>Q</th>\n",
       "      <th>R</th>\n",
       "      <th>S</th>\n",
       "    </tr>\n",
       "  </thead>\n",
       "  <tbody>\n",
       "    <tr>\n",
       "      <td>count</td>\n",
       "      <td>8.000000</td>\n",
       "      <td>8.000000</td>\n",
       "      <td>8.000000</td>\n",
       "      <td>8.000000</td>\n",
       "    </tr>\n",
       "    <tr>\n",
       "      <td>mean</td>\n",
       "      <td>0.124427</td>\n",
       "      <td>-0.004617</td>\n",
       "      <td>0.144327</td>\n",
       "      <td>-0.898078</td>\n",
       "    </tr>\n",
       "    <tr>\n",
       "      <td>std</td>\n",
       "      <td>0.757020</td>\n",
       "      <td>0.913457</td>\n",
       "      <td>0.560059</td>\n",
       "      <td>1.248733</td>\n",
       "    </tr>\n",
       "    <tr>\n",
       "      <td>min</td>\n",
       "      <td>-0.727480</td>\n",
       "      <td>-1.084898</td>\n",
       "      <td>-0.721372</td>\n",
       "      <td>-2.602746</td>\n",
       "    </tr>\n",
       "    <tr>\n",
       "      <td>25%</td>\n",
       "      <td>-0.156176</td>\n",
       "      <td>-0.503984</td>\n",
       "      <td>-0.115952</td>\n",
       "      <td>-1.756980</td>\n",
       "    </tr>\n",
       "    <tr>\n",
       "      <td>50%</td>\n",
       "      <td>-0.010203</td>\n",
       "      <td>-0.210449</td>\n",
       "      <td>0.177626</td>\n",
       "      <td>-0.750874</td>\n",
       "    </tr>\n",
       "    <tr>\n",
       "      <td>75%</td>\n",
       "      <td>0.117625</td>\n",
       "      <td>0.185188</td>\n",
       "      <td>0.388924</td>\n",
       "      <td>-0.217713</td>\n",
       "    </tr>\n",
       "    <tr>\n",
       "      <td>max</td>\n",
       "      <td>1.863264</td>\n",
       "      <td>1.873071</td>\n",
       "      <td>1.025124</td>\n",
       "      <td>1.159472</td>\n",
       "    </tr>\n",
       "  </tbody>\n",
       "</table>\n",
       "</div>"
      ],
      "text/plain": [
       "              P         Q         R         S\n",
       "count  8.000000  8.000000  8.000000  8.000000\n",
       "mean   0.124427 -0.004617  0.144327 -0.898078\n",
       "std    0.757020  0.913457  0.560059  1.248733\n",
       "min   -0.727480 -1.084898 -0.721372 -2.602746\n",
       "25%   -0.156176 -0.503984 -0.115952 -1.756980\n",
       "50%   -0.010203 -0.210449  0.177626 -0.750874\n",
       "75%    0.117625  0.185188  0.388924 -0.217713\n",
       "max    1.863264  1.873071  1.025124  1.159472"
      ]
     },
     "execution_count": 11,
     "metadata": {},
     "output_type": "execute_result"
    }
   ],
   "source": [
    "df.describe()"
   ]
  },
  {
   "cell_type": "markdown",
   "metadata": {},
   "source": [
    "Transposing data:"
   ]
  },
  {
   "cell_type": "code",
   "execution_count": 12,
   "metadata": {},
   "outputs": [
    {
     "data": {
      "text/html": [
       "<div>\n",
       "<style scoped>\n",
       "    .dataframe tbody tr th:only-of-type {\n",
       "        vertical-align: middle;\n",
       "    }\n",
       "\n",
       "    .dataframe tbody tr th {\n",
       "        vertical-align: top;\n",
       "    }\n",
       "\n",
       "    .dataframe thead th {\n",
       "        text-align: right;\n",
       "    }\n",
       "</style>\n",
       "<table border=\"1\" class=\"dataframe\">\n",
       "  <thead>\n",
       "    <tr style=\"text-align: right;\">\n",
       "      <th></th>\n",
       "      <th>2019-01-01</th>\n",
       "      <th>2019-01-02</th>\n",
       "      <th>2019-01-03</th>\n",
       "      <th>2019-01-04</th>\n",
       "      <th>2019-01-05</th>\n",
       "      <th>2019-01-06</th>\n",
       "      <th>2019-01-07</th>\n",
       "      <th>2019-01-08</th>\n",
       "    </tr>\n",
       "  </thead>\n",
       "  <tbody>\n",
       "    <tr>\n",
       "      <td>P</td>\n",
       "      <td>0.010378</td>\n",
       "      <td>1.863264</td>\n",
       "      <td>-0.727480</td>\n",
       "      <td>-0.114543</td>\n",
       "      <td>0.097422</td>\n",
       "      <td>-0.030784</td>\n",
       "      <td>-0.281074</td>\n",
       "      <td>0.178235</td>\n",
       "    </tr>\n",
       "    <tr>\n",
       "      <td>Q</td>\n",
       "      <td>-1.084898</td>\n",
       "      <td>0.626363</td>\n",
       "      <td>-0.473615</td>\n",
       "      <td>1.873071</td>\n",
       "      <td>-0.428159</td>\n",
       "      <td>0.007262</td>\n",
       "      <td>-0.595091</td>\n",
       "      <td>0.038130</td>\n",
       "    </tr>\n",
       "    <tr>\n",
       "      <td>R</td>\n",
       "      <td>-0.442402</td>\n",
       "      <td>0.639877</td>\n",
       "      <td>0.299163</td>\n",
       "      <td>-0.721372</td>\n",
       "      <td>0.056089</td>\n",
       "      <td>-0.007135</td>\n",
       "      <td>1.025124</td>\n",
       "      <td>0.305273</td>\n",
       "    </tr>\n",
       "    <tr>\n",
       "      <td>S</td>\n",
       "      <td>-0.278284</td>\n",
       "      <td>-0.741764</td>\n",
       "      <td>-2.374019</td>\n",
       "      <td>-0.759984</td>\n",
       "      <td>-0.035998</td>\n",
       "      <td>1.159472</td>\n",
       "      <td>-2.602746</td>\n",
       "      <td>-1.551300</td>\n",
       "    </tr>\n",
       "  </tbody>\n",
       "</table>\n",
       "</div>"
      ],
      "text/plain": [
       "   2019-01-01  2019-01-02  2019-01-03  2019-01-04  2019-01-05  2019-01-06  \\\n",
       "P    0.010378    1.863264   -0.727480   -0.114543    0.097422   -0.030784   \n",
       "Q   -1.084898    0.626363   -0.473615    1.873071   -0.428159    0.007262   \n",
       "R   -0.442402    0.639877    0.299163   -0.721372    0.056089   -0.007135   \n",
       "S   -0.278284   -0.741764   -2.374019   -0.759984   -0.035998    1.159472   \n",
       "\n",
       "   2019-01-07  2019-01-08  \n",
       "P   -0.281074    0.178235  \n",
       "Q   -0.595091    0.038130  \n",
       "R    1.025124    0.305273  \n",
       "S   -2.602746   -1.551300  "
      ]
     },
     "execution_count": 12,
     "metadata": {},
     "output_type": "execute_result"
    }
   ],
   "source": [
    "df.T"
   ]
  },
  {
   "cell_type": "markdown",
   "metadata": {},
   "source": [
    "Sorting data by an axis:"
   ]
  },
  {
   "cell_type": "code",
   "execution_count": 13,
   "metadata": {},
   "outputs": [
    {
     "data": {
      "text/html": [
       "<div>\n",
       "<style scoped>\n",
       "    .dataframe tbody tr th:only-of-type {\n",
       "        vertical-align: middle;\n",
       "    }\n",
       "\n",
       "    .dataframe tbody tr th {\n",
       "        vertical-align: top;\n",
       "    }\n",
       "\n",
       "    .dataframe thead th {\n",
       "        text-align: right;\n",
       "    }\n",
       "</style>\n",
       "<table border=\"1\" class=\"dataframe\">\n",
       "  <thead>\n",
       "    <tr style=\"text-align: right;\">\n",
       "      <th></th>\n",
       "      <th>S</th>\n",
       "      <th>R</th>\n",
       "      <th>Q</th>\n",
       "      <th>P</th>\n",
       "    </tr>\n",
       "  </thead>\n",
       "  <tbody>\n",
       "    <tr>\n",
       "      <td>2019-01-01</td>\n",
       "      <td>-0.278284</td>\n",
       "      <td>-0.442402</td>\n",
       "      <td>-1.084898</td>\n",
       "      <td>0.010378</td>\n",
       "    </tr>\n",
       "    <tr>\n",
       "      <td>2019-01-02</td>\n",
       "      <td>-0.741764</td>\n",
       "      <td>0.639877</td>\n",
       "      <td>0.626363</td>\n",
       "      <td>1.863264</td>\n",
       "    </tr>\n",
       "    <tr>\n",
       "      <td>2019-01-03</td>\n",
       "      <td>-2.374019</td>\n",
       "      <td>0.299163</td>\n",
       "      <td>-0.473615</td>\n",
       "      <td>-0.727480</td>\n",
       "    </tr>\n",
       "    <tr>\n",
       "      <td>2019-01-04</td>\n",
       "      <td>-0.759984</td>\n",
       "      <td>-0.721372</td>\n",
       "      <td>1.873071</td>\n",
       "      <td>-0.114543</td>\n",
       "    </tr>\n",
       "    <tr>\n",
       "      <td>2019-01-05</td>\n",
       "      <td>-0.035998</td>\n",
       "      <td>0.056089</td>\n",
       "      <td>-0.428159</td>\n",
       "      <td>0.097422</td>\n",
       "    </tr>\n",
       "    <tr>\n",
       "      <td>2019-01-06</td>\n",
       "      <td>1.159472</td>\n",
       "      <td>-0.007135</td>\n",
       "      <td>0.007262</td>\n",
       "      <td>-0.030784</td>\n",
       "    </tr>\n",
       "    <tr>\n",
       "      <td>2019-01-07</td>\n",
       "      <td>-2.602746</td>\n",
       "      <td>1.025124</td>\n",
       "      <td>-0.595091</td>\n",
       "      <td>-0.281074</td>\n",
       "    </tr>\n",
       "    <tr>\n",
       "      <td>2019-01-08</td>\n",
       "      <td>-1.551300</td>\n",
       "      <td>0.305273</td>\n",
       "      <td>0.038130</td>\n",
       "      <td>0.178235</td>\n",
       "    </tr>\n",
       "  </tbody>\n",
       "</table>\n",
       "</div>"
      ],
      "text/plain": [
       "                   S         R         Q         P\n",
       "2019-01-01 -0.278284 -0.442402 -1.084898  0.010378\n",
       "2019-01-02 -0.741764  0.639877  0.626363  1.863264\n",
       "2019-01-03 -2.374019  0.299163 -0.473615 -0.727480\n",
       "2019-01-04 -0.759984 -0.721372  1.873071 -0.114543\n",
       "2019-01-05 -0.035998  0.056089 -0.428159  0.097422\n",
       "2019-01-06  1.159472 -0.007135  0.007262 -0.030784\n",
       "2019-01-07 -2.602746  1.025124 -0.595091 -0.281074\n",
       "2019-01-08 -1.551300  0.305273  0.038130  0.178235"
      ]
     },
     "execution_count": 13,
     "metadata": {},
     "output_type": "execute_result"
    }
   ],
   "source": [
    "df.sort_index(axis=1, ascending=False)"
   ]
  },
  {
   "cell_type": "markdown",
   "metadata": {},
   "source": [
    "Sorting by values:"
   ]
  },
  {
   "cell_type": "code",
   "execution_count": 14,
   "metadata": {},
   "outputs": [
    {
     "data": {
      "text/html": [
       "<div>\n",
       "<style scoped>\n",
       "    .dataframe tbody tr th:only-of-type {\n",
       "        vertical-align: middle;\n",
       "    }\n",
       "\n",
       "    .dataframe tbody tr th {\n",
       "        vertical-align: top;\n",
       "    }\n",
       "\n",
       "    .dataframe thead th {\n",
       "        text-align: right;\n",
       "    }\n",
       "</style>\n",
       "<table border=\"1\" class=\"dataframe\">\n",
       "  <thead>\n",
       "    <tr style=\"text-align: right;\">\n",
       "      <th></th>\n",
       "      <th>P</th>\n",
       "      <th>Q</th>\n",
       "      <th>R</th>\n",
       "      <th>S</th>\n",
       "    </tr>\n",
       "  </thead>\n",
       "  <tbody>\n",
       "    <tr>\n",
       "      <td>2019-01-01</td>\n",
       "      <td>0.010378</td>\n",
       "      <td>-1.084898</td>\n",
       "      <td>-0.442402</td>\n",
       "      <td>-0.278284</td>\n",
       "    </tr>\n",
       "    <tr>\n",
       "      <td>2019-01-07</td>\n",
       "      <td>-0.281074</td>\n",
       "      <td>-0.595091</td>\n",
       "      <td>1.025124</td>\n",
       "      <td>-2.602746</td>\n",
       "    </tr>\n",
       "    <tr>\n",
       "      <td>2019-01-03</td>\n",
       "      <td>-0.727480</td>\n",
       "      <td>-0.473615</td>\n",
       "      <td>0.299163</td>\n",
       "      <td>-2.374019</td>\n",
       "    </tr>\n",
       "    <tr>\n",
       "      <td>2019-01-05</td>\n",
       "      <td>0.097422</td>\n",
       "      <td>-0.428159</td>\n",
       "      <td>0.056089</td>\n",
       "      <td>-0.035998</td>\n",
       "    </tr>\n",
       "    <tr>\n",
       "      <td>2019-01-06</td>\n",
       "      <td>-0.030784</td>\n",
       "      <td>0.007262</td>\n",
       "      <td>-0.007135</td>\n",
       "      <td>1.159472</td>\n",
       "    </tr>\n",
       "    <tr>\n",
       "      <td>2019-01-08</td>\n",
       "      <td>0.178235</td>\n",
       "      <td>0.038130</td>\n",
       "      <td>0.305273</td>\n",
       "      <td>-1.551300</td>\n",
       "    </tr>\n",
       "    <tr>\n",
       "      <td>2019-01-02</td>\n",
       "      <td>1.863264</td>\n",
       "      <td>0.626363</td>\n",
       "      <td>0.639877</td>\n",
       "      <td>-0.741764</td>\n",
       "    </tr>\n",
       "    <tr>\n",
       "      <td>2019-01-04</td>\n",
       "      <td>-0.114543</td>\n",
       "      <td>1.873071</td>\n",
       "      <td>-0.721372</td>\n",
       "      <td>-0.759984</td>\n",
       "    </tr>\n",
       "  </tbody>\n",
       "</table>\n",
       "</div>"
      ],
      "text/plain": [
       "                   P         Q         R         S\n",
       "2019-01-01  0.010378 -1.084898 -0.442402 -0.278284\n",
       "2019-01-07 -0.281074 -0.595091  1.025124 -2.602746\n",
       "2019-01-03 -0.727480 -0.473615  0.299163 -2.374019\n",
       "2019-01-05  0.097422 -0.428159  0.056089 -0.035998\n",
       "2019-01-06 -0.030784  0.007262 -0.007135  1.159472\n",
       "2019-01-08  0.178235  0.038130  0.305273 -1.551300\n",
       "2019-01-02  1.863264  0.626363  0.639877 -0.741764\n",
       "2019-01-04 -0.114543  1.873071 -0.721372 -0.759984"
      ]
     },
     "execution_count": 14,
     "metadata": {},
     "output_type": "execute_result"
    }
   ],
   "source": [
    "df.sort_values(by='Q')"
   ]
  }
 ],
 "metadata": {
  "kernelspec": {
   "display_name": "Python 3",
   "language": "python",
   "name": "python3"
  },
  "language_info": {
   "codemirror_mode": {
    "name": "ipython",
    "version": 3
   },
   "file_extension": ".py",
   "mimetype": "text/x-python",
   "name": "python",
   "nbconvert_exporter": "python",
   "pygments_lexer": "ipython3",
   "version": "3.7.1"
  }
 },
 "nbformat": 4,
 "nbformat_minor": 4
}
