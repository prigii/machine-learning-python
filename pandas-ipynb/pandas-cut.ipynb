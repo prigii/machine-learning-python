{
 "cells": [
  {
   "cell_type": "markdown",
   "metadata": {},
   "source": [
    "**Discretize into three equal-sized bins:**"
   ]
  },
  {
   "cell_type": "code",
   "execution_count": 19,
   "metadata": {},
   "outputs": [],
   "source": [
    "import numpy as np\n",
    "import pandas as pd"
   ]
  },
  {
   "cell_type": "code",
   "execution_count": 20,
   "metadata": {},
   "outputs": [
    {
     "data": {
      "text/plain": [
       "[(1.994, 4.0], (6.0, 8.0], (4.0, 6.0], (1.994, 4.0], (4.0, 6.0], (6.0, 8.0]]\n",
       "Categories (3, interval[float64]): [(1.994, 4.0] < (4.0, 6.0] < (6.0, 8.0]]"
      ]
     },
     "execution_count": 20,
     "metadata": {},
     "output_type": "execute_result"
    }
   ],
   "source": [
    "pd.cut(np.array([2, 7, 5, 4, 6, 8]), 3)\n",
    "# doctest: +ELLIPSIS"
   ]
  },
  {
   "cell_type": "code",
   "execution_count": 21,
   "metadata": {},
   "outputs": [
    {
     "data": {
      "text/plain": [
       "([(1.994, 4.0], (6.0, 8.0], (4.0, 6.0], (1.994, 4.0], (4.0, 6.0], (6.0, 8.0]]\n",
       " Categories (3, interval[float64]): [(1.994, 4.0] < (4.0, 6.0] < (6.0, 8.0]],\n",
       " array([1.994, 4.   , 6.   , 8.   ]))"
      ]
     },
     "execution_count": 21,
     "metadata": {},
     "output_type": "execute_result"
    }
   ],
   "source": [
    "pd.cut(np.array([2, 7, 5, 4, 6, 8]), 3, retbins=True)\n",
    "# doctest: +ELLIPSIS"
   ]
  },
  {
   "cell_type": "markdown",
   "metadata": {},
   "source": [
    "Discovers the same bins, but assign them specific labels. Notice that the returned Categorical’s <br>\n",
    "categories are labels and is ordered."
   ]
  },
  {
   "cell_type": "code",
   "execution_count": 22,
   "metadata": {},
   "outputs": [
    {
     "data": {
      "text/plain": [
       "[small, large, big, small, big, large]\n",
       "Categories (3, object): [small < big < large]"
      ]
     },
     "execution_count": 22,
     "metadata": {},
     "output_type": "execute_result"
    }
   ],
   "source": [
    "pd.cut(np.array([2, 7, 5, 4, 6, 8]),\n",
    "       3, labels=[\"small\", \"big\", \"large\"])"
   ]
  },
  {
   "cell_type": "markdown",
   "metadata": {},
   "source": [
    "labels=False implies you just want the bins back."
   ]
  },
  {
   "cell_type": "code",
   "execution_count": 23,
   "metadata": {},
   "outputs": [
    {
     "data": {
      "text/plain": [
       "array([0, 1, 1, 3], dtype=int64)"
      ]
     },
     "execution_count": 23,
     "metadata": {},
     "output_type": "execute_result"
    }
   ],
   "source": [
    "pd.cut([0, 1, 1, 2], bins=4, labels=False)"
   ]
  },
  {
   "cell_type": "markdown",
   "metadata": {},
   "source": [
    "Passing a Series as an input returns a Series with categorical dtype:"
   ]
  },
  {
   "cell_type": "code",
   "execution_count": 24,
   "metadata": {},
   "outputs": [],
   "source": [
    "s = pd.Series(np.array([4, 5, 6, 8, 10]),\n",
    "              index=['p', 'q', 'r', 's', 't'])"
   ]
  },
  {
   "cell_type": "code",
   "execution_count": 25,
   "metadata": {},
   "outputs": [
    {
     "data": {
      "text/plain": [
       "p    (3.994, 6.0]\n",
       "q    (3.994, 6.0]\n",
       "r    (3.994, 6.0]\n",
       "s      (6.0, 8.0]\n",
       "t     (8.0, 10.0]\n",
       "dtype: category\n",
       "Categories (3, interval[float64]): [(3.994, 6.0] < (6.0, 8.0] < (8.0, 10.0]]"
      ]
     },
     "execution_count": 25,
     "metadata": {},
     "output_type": "execute_result"
    }
   ],
   "source": [
    "pd.cut(s, 3)\n",
    "# doctest: +ELLIPSIS"
   ]
  },
  {
   "cell_type": "markdown",
   "metadata": {},
   "source": [
    "Passing a Series as an input returns a Series with mapping value. It is used to map numerically to intervals<br>\n",
    "based on bins."
   ]
  },
  {
   "cell_type": "code",
   "execution_count": 26,
   "metadata": {},
   "outputs": [],
   "source": [
    "s = pd.Series(np.array([4, 5, 6, 8, 10]),\n",
    "              index=['p', 'q', 'r', 's', 't'])"
   ]
  },
  {
   "cell_type": "code",
   "execution_count": 27,
   "metadata": {},
   "outputs": [
    {
     "data": {
      "text/plain": [
       "(p    1.0\n",
       " q    2.0\n",
       " r    3.0\n",
       " s    4.0\n",
       " t    NaN\n",
       " dtype: float64, array([ 0,  4,  5,  6,  8, 10]))"
      ]
     },
     "execution_count": 27,
     "metadata": {},
     "output_type": "execute_result"
    }
   ],
   "source": [
    "pd.cut(s, [0, 4, 5, 6, 8, 10], labels=False, retbins=True, right=False)\n",
    "# doctest: +ELLIPSIS"
   ]
  },
  {
   "cell_type": "markdown",
   "metadata": {},
   "source": [
    "Use drop optional when bins is not unique"
   ]
  },
  {
   "cell_type": "code",
   "execution_count": 28,
   "metadata": {},
   "outputs": [
    {
     "data": {
      "text/plain": [
       "(p    1.0\n",
       " q    2.0\n",
       " r    3.0\n",
       " s    3.0\n",
       " t    NaN\n",
       " dtype: float64, array([ 0,  4,  5,  6, 10], dtype=int64))"
      ]
     },
     "execution_count": 28,
     "metadata": {},
     "output_type": "execute_result"
    }
   ],
   "source": [
    "pd.cut(s, [0, 4, 5, 6, 10, 10], labels=False, retbins=True,\n",
    "       right=False, duplicates='drop')\n",
    "# doctest: +ELLIPSIS"
   ]
  },
  {
   "cell_type": "markdown",
   "metadata": {},
   "source": [
    "Passing an IntervalIndex for bins results in those categories exactly. Notice that values not covered<br>\n",
    "by the IntervalIndex are set to NaN. 0 is to the left of the first bin (which is closed on the right),<br>\n",
    "and 1.5 falls between two bins."
   ]
  },
  {
   "cell_type": "code",
   "execution_count": 29,
   "metadata": {},
   "outputs": [],
   "source": [
    "bins = pd.IntervalIndex.from_tuples([(0, 2), (3, 4), (5, 6)])"
   ]
  },
  {
   "cell_type": "code",
   "execution_count": 31,
   "metadata": {},
   "outputs": [
    {
     "data": {
      "text/plain": [
       "[NaN, (0.0, 2.0], (0.0, 2.0], NaN, NaN]\n",
       "Categories (3, interval[int64]): [(0, 2] < (3, 4] < (5, 6]]"
      ]
     },
     "execution_count": 31,
     "metadata": {},
     "output_type": "execute_result"
    }
   ],
   "source": [
    "pd.cut([0, 0.5, 1.5, 2.5, 4.5], bins)"
   ]
  }
 ],
 "metadata": {
  "kernelspec": {
   "display_name": "Python 3",
   "language": "python",
   "name": "python3"
  },
  "language_info": {
   "codemirror_mode": {
    "name": "ipython",
    "version": 3
   },
   "file_extension": ".py",
   "mimetype": "text/x-python",
   "name": "python",
   "nbconvert_exporter": "python",
   "pygments_lexer": "ipython3",
   "version": "3.7.1"
  }
 },
 "nbformat": 4,
 "nbformat_minor": 2
}
